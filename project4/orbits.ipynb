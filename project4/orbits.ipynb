{
 "cells": [
  {
   "cell_type": "markdown",
   "metadata": {
    "deletable": true,
    "editable": true
   },
   "source": [
    "# <span style=\"color:teal;\">CIS 211 Project 4:  Orbits</span>"
   ]
  },
  {
   "cell_type": "markdown",
   "metadata": {
    "deletable": true,
    "editable": true
   },
   "source": [
    "##### Due 11:00 P.M. April 28, 2017"
   ]
  },
  {
   "cell_type": "markdown",
   "metadata": {
    "deletable": true,
    "editable": true
   },
   "source": [
    "##### Reading:  M&R 10.6.3"
   ]
  },
  {
   "cell_type": "markdown",
   "metadata": {
    "deletable": true,
    "editable": true
   },
   "source": [
    "###  <span style=\"color:teal\">Vector and Body Classes</span>"
   ]
  },
  {
   "cell_type": "markdown",
   "metadata": {
    "deletable": true,
    "editable": true
   },
   "source": [
    "This week's project will build on the Vector and Body classes from last week in order to create a complete simulation of the Solar System.  There are two ways to define these classes:  (1) copy your definitions from last week's project, or (2) download the instructor's solution from Canvas.\n",
    "\n",
    "Instructions for both methods are in the next two sections.  **Use either of these methods, but not both.**  \n",
    "\n",
    "Note: you will earn **extra credit points** if you use your own code."
   ]
  },
  {
   "cell_type": "markdown",
   "metadata": {
    "deletable": true,
    "editable": true
   },
   "source": [
    "####  <span style=\"color:teal\">Option 1: &nbsp; Use Your Own Classes</span>"
   ]
  },
  {
   "cell_type": "markdown",
   "metadata": {
    "deletable": true,
    "editable": true
   },
   "source": [
    "Choose this method only if your classes passed all the unit tests. Copy the complete Vector and Body class definitions from last week's notebook and paste them into the code cells below.  "
   ]
  },
  {
   "cell_type": "code",
   "execution_count": 1,
   "metadata": {
    "collapsed": true,
    "deletable": true,
    "editable": true
   },
   "outputs": [],
   "source": [
    "# Copy and paste a working version of the Vector class into this cell.\n",
    "\n",
    "pass"
   ]
  },
  {
   "cell_type": "code",
   "execution_count": 2,
   "metadata": {
    "collapsed": true,
    "deletable": true,
    "editable": true
   },
   "outputs": [],
   "source": [
    "# Copy and paste a working version of the Body class into this cell.\n",
    "\n",
    "pass"
   ]
  },
  {
   "cell_type": "markdown",
   "metadata": {
    "deletable": true,
    "editable": true
   },
   "source": [
    "####  <span style=\"color:teal\">Option 2: &nbsp; Download the Instructor's Solution from Canvas </span>"
   ]
  },
  {
   "cell_type": "markdown",
   "metadata": {
    "deletable": true,
    "editable": true
   },
   "source": [
    "If your classes did not pass all the unit tests you need to download a  \"compiled Python\" (`.pyc`) file from the Files section on Canvas.\n",
    "\n",
    "The file you need has a name that ends with `cpython-3x.pyc` where `x` is either 4 (for Python 3.4), 5 (for Python 3.5), or 6 (for Python 3.6). To see which version of Python you have, select About from Jupyter's Help menu.\n",
    "It does not matter which OS you have, the `.pyc` files work for Mac, Windows, or Linux\n",
    "\n",
    "Download one of the `Body.cpython-3x.pyc` files, rename it `Body.pyc`, and move it to the same folder as this notebook.  Then uncomment and execute the `import` command in the code cell below."
   ]
  },
  {
   "cell_type": "code",
   "execution_count": 32,
   "metadata": {
    "collapsed": false,
    "deletable": true,
    "editable": true
   },
   "outputs": [],
   "source": [
    "from Body import *"
   ]
  },
  {
   "cell_type": "markdown",
   "metadata": {
    "deletable": true,
    "editable": true
   },
   "source": [
    "###  <span style=\"color:teal\">Libraries</span>"
   ]
  },
  {
   "cell_type": "markdown",
   "metadata": {
    "deletable": true,
    "editable": true
   },
   "source": [
    "Execute the following code cell each time you open this notebook."
   ]
  },
  {
   "cell_type": "code",
   "execution_count": 33,
   "metadata": {
    "collapsed": false,
    "deletable": true,
    "editable": true
   },
   "outputs": [],
   "source": [
    "from copy import deepcopy\n",
    "import matplotlib.pyplot as plt\n",
    "\n",
    "%matplotlib inline"
   ]
  },
  {
   "cell_type": "markdown",
   "metadata": {
    "deletable": true,
    "editable": true
   },
   "source": [
    "###  <span style=\"color:teal\">Part 1: Planet Class (20 Points)</span>"
   ]
  },
  {
   "cell_type": "markdown",
   "metadata": {
    "deletable": true,
    "editable": true
   },
   "source": [
    "Use the code cell below to define a new class named Planet.  Define the class so that a Planet is a kind of Body, _i.e._ the Planet class is a descendant of the Body class.\n",
    "\n",
    "The Planet class should extend the Body class by adding two new attributes:\n",
    "* the name of the planet\n",
    "* the color that will be used when the planet is displayed in the GUI\n",
    "\n",
    "Both the name and the color are strings that can be passed to the constructor when the object is created, along with any of the attributes that can be used to initialize a Body object.  For example:\n",
    "```\n",
    ">>> p = Planet(mass=5.9736E+24, name='earth', color='blue')\n",
    "```\n",
    "If no name or color is specified initialize those attributes to empty strings.\n",
    "\n",
    "**Hint:** &nbsp; The examples in the lecture notes for Apr 24--28 show how to add named arguments to the constructor for a derived class.\n",
    "\n",
    "The Planet class should also include two new \"getter\" methods that return the name and color of a planet.  Using the object created in the example above:\n",
    "```\n",
    ">>> p.name()\n",
    "'earth'\n",
    "\n",
    ">>> p.color()\n",
    "'blue'\n",
    "```\n",
    "\n",
    "**Style Points:** &nbsp;  The main goal for writing a derived class is to reuse as much of the parent class as possible.  We'll deduct points for statements included in the Planet class that duplicate operations already implemeneted in the Body class."
   ]
  },
  {
   "cell_type": "markdown",
   "metadata": {
    "deletable": true,
    "editable": true
   },
   "source": [
    "##### <span style=\"color:red\">Code:</span>"
   ]
  },
  {
   "cell_type": "code",
   "execution_count": 56,
   "metadata": {
    "collapsed": false,
    "deletable": false,
    "editable": true,
    "nbgrader": {
     "checksum": "f9c13f583c514d4debded753789bd1a8",
     "grade": true,
     "grade_id": "planet",
     "locked": false,
     "points": 10,
     "schema_version": 1,
     "solution": true
    }
   },
   "outputs": [],
   "source": [
    "class Planet(Body):\n",
    "    ''' \n",
    "        This class Planet is an extension of the class body and we added a couple more attributes to the initiatlized function.\n",
    "    '''\n",
    "    \n",
    "    def __init__(self, mass = 0, position = Vector(0,0,0), velocity = Vector(0,0,0), name = '', color = ''):\n",
    "        Body.__init__(self, mass, position, velocity)\n",
    "        self._name = name\n",
    "        self._color = color\n",
    "        \n",
    "    def name(self):\n",
    "        return self._name\n",
    "    \n",
    "    def color(self):\n",
    "        return self._color\n",
    "        \n",
    "        \n",
    "pass"
   ]
  },
  {
   "cell_type": "markdown",
   "metadata": {
    "deletable": true,
    "editable": true
   },
   "source": [
    "##### <span style=\"color:red\">Tests:</span>"
   ]
  },
  {
   "cell_type": "markdown",
   "metadata": {
    "deletable": true,
    "editable": true
   },
   "source": [
    "Use the following code cell as a \"sandbox\" if you want to do your own tests.  You can add additional cells here if you want."
   ]
  },
  {
   "cell_type": "code",
   "execution_count": null,
   "metadata": {
    "collapsed": true,
    "deletable": true,
    "editable": true
   },
   "outputs": [],
   "source": []
  },
  {
   "cell_type": "markdown",
   "metadata": {
    "deletable": true,
    "editable": true
   },
   "source": [
    "##### <span style=\"color:red\">Autograder Tests:</span>"
   ]
  },
  {
   "cell_type": "code",
   "execution_count": 57,
   "metadata": {
    "collapsed": false,
    "deletable": false,
    "editable": false,
    "nbgrader": {
     "checksum": "84455b48b2d2a033fc58e5032a332a5b",
     "grade": true,
     "grade_id": "planet_test_1",
     "locked": true,
     "points": 2,
     "schema_version": 1,
     "solution": false
    }
   },
   "outputs": [],
   "source": [
    "# Test 1:  Call the constructor with default values.\n",
    "p0 = Planet()\n",
    "assert p0.name() == ''\n",
    "assert p0.color() == ''\n",
    "assert p0.mass() == 0.0"
   ]
  },
  {
   "cell_type": "code",
   "execution_count": 58,
   "metadata": {
    "collapsed": false,
    "deletable": false,
    "editable": false,
    "nbgrader": {
     "checksum": "0f7fe1966a003bfe28a3c9fd4ebc4373",
     "grade": true,
     "grade_id": "planet_test_2",
     "locked": true,
     "points": 2,
     "schema_version": 1,
     "solution": false
    }
   },
   "outputs": [],
   "source": [
    "# Test 2:  Make an object that will represent Earth in the simulation\n",
    "earth_loc = Vector(-2.700743E+10,1.446007E+11,9686451)\n",
    "earth_dir = Vector(-29770.44,-5568.042,0.3961261)\n",
    "\n",
    "earth = Planet(mass=5.9736E+24, position=earth_loc, velocity=earth_dir, name='earth', color='blue')\n",
    "assert 5.973E+24 < earth.mass() < 5.974E+24\n",
    "assert earth.name() == 'earth'\n",
    "assert earth.color() == 'blue'"
   ]
  },
  {
   "cell_type": "code",
   "execution_count": 59,
   "metadata": {
    "collapsed": false,
    "deletable": false,
    "editable": false,
    "nbgrader": {
     "checksum": "f4f5cf5f317930e93e85e278bafd9a17",
     "grade": true,
     "grade_id": "planet_test_3",
     "locked": true,
     "points": 2,
     "schema_version": 1,
     "solution": false
    }
   },
   "outputs": [],
   "source": [
    "# Test 3: Verify the Planet class inherits force calculations\n",
    "sun = Body(1.9891E+30, Vector(0,0,0), Vector(0,0,0))\n",
    "earth = Planet(5.9736E+24, Vector(-2.700743E+10,1.446007E+11,9686451), Vector(-29770.44,-5568.042,0.3961261))\n",
    "\n",
    "assert earth.force() == Vector(0,0,0)\n",
    "\n",
    "earth.add_force(sun)\n",
    "earth.move(86400)\n",
    "\n",
    "assert -2.97e+10 < earth.position().x() < -2.95e+10\n",
    "assert 1.43e+11 < earth.position().y() < 1.45e+11"
   ]
  },
  {
   "cell_type": "markdown",
   "metadata": {
    "deletable": true,
    "editable": true
   },
   "source": [
    "##### <span style=\"color:red\">Documentation:</span>"
   ]
  },
  {
   "cell_type": "markdown",
   "metadata": {
    "deletable": false,
    "nbgrader": {
     "checksum": "3ac56c2f3d7cb0e8342f4378725fb5b2",
     "grade": true,
     "grade_id": "planet_doc",
     "locked": false,
     "points": 4,
     "schema_version": 1,
     "solution": true
    }
   },
   "source": [
    "This class Planet is using an extension of the Body class used in the Planets project from last week. We extended this class by adding two more attibutes to the initiatilized function which are name and color. The reason we did this is to name each planet and give it a color so we will be able to distinguish each planet in the solar system when we plot it."
   ]
  },
  {
   "cell_type": "markdown",
   "metadata": {
    "collapsed": true,
    "deletable": true,
    "editable": true
   },
   "source": [
    "###  <span style=\"color:teal\">Part 2: &nbsp; Solar System Simulation (30 points)</span>"
   ]
  },
  {
   "cell_type": "markdown",
   "metadata": {
    "deletable": true,
    "editable": true
   },
   "source": [
    "Execute this code cell to create a list of objects for the sun and the 9 planets.  The positions and initial velocities are from a \"snapshot\" of the solar system from January 1, 1970.\n",
    "\n",
    "**Do not change this cell.** &nbsp; The autograder will use these objects to test your simulation."
   ]
  },
  {
   "cell_type": "code",
   "execution_count": 60,
   "metadata": {
    "collapsed": false,
    "deletable": false,
    "editable": false,
    "nbgrader": {
     "checksum": "eb307ea1929dfcf1440d5c2576854fc1",
     "grade": false,
     "grade_id": "solar_system",
     "locked": true,
     "schema_version": 1,
     "solution": false
    }
   },
   "outputs": [],
   "source": [
    "solar_system = [\n",
    "    Body(1.9891E+30,    Vector(0,0,0), Vector(0,0,0)),\n",
    "    Planet(3.302E+23,   Vector(3.83713E+10,2.877025E+10,-1.175808E+09),    Vector(-38787.67,41093.05,6918.461),    name='mercury',  color='#ffcc66'),\n",
    "    Planet(4.8685E+24,  Vector(-5.377313E+09,-1.085956E+11,-1.164748E+09), Vector(34741.48,-1865.747,-2031.506),   name='venus',    color='#800080'),\n",
    "    Planet(5.9736E+24,  Vector(-2.700743E+10,1.446007E+11,9686451),        Vector(-29770.44,-5568.042,0.3961261),  name='earth',    color='#0000ff'),\n",
    "    Planet(6.4185E+23,  Vector(1.983825E+11,7.422924E+10,-3.334841E+09),   Vector(-7557.626,24761.27,704.7457),    name='mars',     color='#ff0000'),\n",
    "    Planet(1.89813E+27, Vector(-7.496502E+11,-3.201711E+11,1.811155E+10),  Vector(4982.522,-11417.83,-64.66531),   name='jupiter',  color='#ffffbf'),\n",
    "    Planet(5.68319E+26, Vector(1.082806E+12,8.510841E+11,-5.793461E+10),   Vector(-6487.118,7565.952,125.4422),    name='saturn',   color='#0080ff'),\n",
    "    Planet(8.68103E+25, Vector(-2.724616E+12,-2.894003E+11,3.428801E+10),  Vector(671.3469,-7099.093,-35.04028),   name='uranus',   color='#008080'),\n",
    "    Planet(1.0241E+26,  Vector(-2.328072E+12,-3.891086E+12,1.337436E+11),  Vector(4633.961,-2767.423,-49.57268),   name='neptune',  color='#004080'),\n",
    "    Planet(1.314E+22,   Vector(-4.551135E+12,3.175277E+11,1.282177E+12),   Vector(635.998,-5762.115,440.8821),     name='pluto',    color='#dddddd')\n",
    "]"
   ]
  },
  {
   "cell_type": "markdown",
   "metadata": {
    "deletable": true,
    "editable": true
   },
   "source": [
    "To run the full N-body simulation we need to calculate all pairwise interactions between the bodies.  On each time step, first update each body's force vector:\n",
    "```\n",
    "for i = 0 to n-1:\n",
    "  for j = 0 to n-1:\n",
    "    if i != j:\n",
    "      add the force of body j to body i's force vector\n",
    "```\n",
    "Now uses the accumulated forces to move each body and clear the force vector so it's ready for the next time step:\n",
    "```\n",
    "for i = 0 to n-1:\n",
    "   move body i\n",
    "   clear forces on body i\n",
    "```\n",
    "\n",
    "Fill in the body of the function named `step_system`.  The arguments to this function are\n",
    "* a list of Body objects (and since Planets are derived from Body the list can include them, too)\n",
    "* a time step size (default 86459, the number of seconds in 1/365 of a year)\n",
    "* the number of time steps to simulate (default 1)\n",
    "\n",
    "The return value should be a list of orbits.  If there are $n$ bodies passed to the function, the output will be a list of $n$ sequences containing the $(x,y)$ coordinates of each body at each time step.\n",
    "\n",
    "For example, to simulate one year of the solar system, using the list of Body object defined above:\n",
    "```\n",
    "orbits = step_system(solar_system, nsteps=365)\n",
    "```\n",
    "The output will be a list of 10 lists:\n",
    "```\n",
    "[ \n",
    "  [(sx0,sy0), (sx1,sy1), (sx2,sy2), ...],\n",
    "  [(mx0,my0), (mx1,my1), (mx2,my2), ...],\n",
    "  ...\n",
    "  [(px0,py0), (px1,py1), (px2,py2), ...]\n",
    "]\n",
    "```\n",
    "where `sx` and `sy` are the $x$ and $y$ coordinates of the first body (the Sun), `mx` and `my` are the coordinates of the second body (Mercury), _etc_."
   ]
  },
  {
   "cell_type": "markdown",
   "metadata": {
    "deletable": true,
    "editable": true
   },
   "source": [
    "**Note** &nbsp; Each time you call your `step_system` function it's going to change the position vectors in the Body objects.  To make sure you have a \"clean copy\" each time you test your code either go back and re-execute the cell that defines the solar system or make a copy of the solar system to use in your test:\n",
    "```\n",
    "ss = deepcopy(solar_system)\n",
    "```"
   ]
  },
  {
   "cell_type": "code",
   "execution_count": 78,
   "metadata": {
    "collapsed": false,
    "deletable": false,
    "editable": true,
    "nbgrader": {
     "checksum": "7eb62f019e1376875f1a867499d3b5dd",
     "grade": true,
     "grade_id": "step_system",
     "locked": false,
     "points": 15,
     "schema_version": 1,
     "solution": true
    }
   },
   "outputs": [],
   "source": [
    "def step_system(bodies, dt=86459, nsteps=1):\n",
    "    '''\n",
    "        (Class, num, num) --> list\n",
    "        \n",
    "        This function makes the simulation of the planet solar system.\n",
    "    '''\n",
    "    orbits = [[] for i in range(len(bodies))]\n",
    "    for steps in range(nsteps):\n",
    "        for i in range(len(bodies)):\n",
    "            for j in range(len(bodies)):\n",
    "                if i != j:\n",
    "                    bodies[i].add_force(bodies[j])\n",
    "        for i in range(len(bodies)):\n",
    "            orbits[i].append((bodies[i].position().x(), bodies[i].position().y()))\n",
    "            bodies[i].clear_force\n",
    "    \n",
    "    return orbits\n",
    "                \n",
    "        \n",
    "    pass"
   ]
  },
  {
   "cell_type": "markdown",
   "metadata": {
    "deletable": true,
    "editable": true
   },
   "source": [
    "##### <span style=\"color:red\">Tests:</span>"
   ]
  },
  {
   "cell_type": "markdown",
   "metadata": {
    "deletable": true,
    "editable": true
   },
   "source": [
    "Use the following code cell as a \"sandbox\" if you want to do your own tests.  You can add additional cells here if you want."
   ]
  },
  {
   "cell_type": "code",
   "execution_count": null,
   "metadata": {
    "collapsed": true,
    "deletable": true,
    "editable": true
   },
   "outputs": [],
   "source": []
  },
  {
   "cell_type": "markdown",
   "metadata": {
    "deletable": true,
    "editable": true
   },
   "source": [
    "##### <span style=\"color:red\">Autograder Tests:</span>"
   ]
  },
  {
   "cell_type": "markdown",
   "metadata": {
    "collapsed": false,
    "deletable": true,
    "editable": true
   },
   "source": [
    "Test 1:  Run the simulation for 5 time steps.  The return value should be a list of 10 orbits, and each orbit should have 5 pairs."
   ]
  },
  {
   "cell_type": "code",
   "execution_count": 62,
   "metadata": {
    "collapsed": false,
    "deletable": false,
    "editable": false,
    "nbgrader": {
     "checksum": "72db0f3d5bdd1c2fc832ba00492dfc9d",
     "grade": true,
     "grade_id": "step_test_1",
     "locked": true,
     "points": 4,
     "schema_version": 1,
     "solution": false
    }
   },
   "outputs": [],
   "source": [
    "ss = deepcopy(solar_system)\n",
    "orbits = step_system(ss, nsteps=5, dt=86400)\n",
    "\n",
    "assert isinstance(orbits,list)\n",
    "assert len(orbits) == 10\n",
    "assert sum([len(x) for x in orbits]) == 50"
   ]
  },
  {
   "cell_type": "markdown",
   "metadata": {
    "collapsed": false,
    "deletable": true,
    "editable": true
   },
   "source": [
    "Test 2:  Run the simulation long enough for Mercury to make one full orbit (about 88 Earth days), see if it's close to where it started."
   ]
  },
  {
   "cell_type": "code",
   "execution_count": 63,
   "metadata": {
    "collapsed": false,
    "deletable": false,
    "editable": false,
    "nbgrader": {
     "checksum": "3a86b45f359ce70e0469d8880f9bb2bd",
     "grade": true,
     "grade_id": "step_test_2",
     "locked": true,
     "points": 4,
     "schema_version": 1,
     "solution": false
    }
   },
   "outputs": [],
   "source": [
    "ss = deepcopy(solar_system)\n",
    "start = deepcopy(ss[1].position())            # Mercury's starting position\n",
    "step_system(ss, nsteps=1000, dt=7600.5216)\n",
    "stop = ss[1].position()                       # Mercury's final position\n",
    "\n",
    "assert (stop-start).norm() < 1e10"
   ]
  },
  {
   "cell_type": "markdown",
   "metadata": {
    "deletable": true,
    "editable": true
   },
   "source": [
    "##### <span style=\"color:red\">Documentation:</span>"
   ]
  },
  {
   "cell_type": "markdown",
   "metadata": {
    "deletable": false,
    "editable": true,
    "nbgrader": {
     "checksum": "0c3bbe39127e3db4e6c93d5c096c2a83",
     "grade": true,
     "grade_id": "step_doc",
     "locked": false,
     "points": 7,
     "schema_version": 1,
     "solution": true
    }
   },
   "source": [
    "The point of this function is to find a simulation of all the planets and the sun. We do this by using a simulation of from January 1, 1970. We add the veolcities and forces of the planets to find out how we can simulate them to find out their position and how they move. Everytime we run it the position of the planets are always going to change. The returned value of this function is a list of lists, which is a list of the planets listed positions. "
   ]
  },
  {
   "cell_type": "markdown",
   "metadata": {
    "deletable": true,
    "editable": true
   },
   "source": [
    "###  <span style=\"color:teal\">Part 3: &nbsp; Draw Concentric Circles (20 points)</span>"
   ]
  },
  {
   "cell_type": "markdown",
   "metadata": {
    "collapsed": true,
    "deletable": true,
    "editable": true
   },
   "source": [
    "This part of the project is a \"warmup exercise\" to help you learn how to use PyPlot to draw orbits.\n",
    "\n",
    "Fill in the body of the function definition below so it draws a set of concentric circles.  Each circle will actually be a sequence of connected line segments drawn by a call to the `plot` function.  The parameters are:\n",
    "* the number of circles to draw\n",
    "* the radius of the innermost circle\n",
    "* the radius of the outermost circle\n",
    "* the number of line segments in each circle\n",
    "\n",
    "Use the radius of the inner and outer circles to compute equally spaces between the other circles.  For example, if the call is\n",
    "```\n",
    ">>> concentric(ncircles=5, inner=5, outer=9)\n",
    "```\n",
    "the function should draw circles with radius 5, 6, 7, 8, and 9."
   ]
  },
  {
   "cell_type": "markdown",
   "metadata": {
    "deletable": true,
    "editable": true
   },
   "source": [
    "####  <span style=\"color:teal\">Hint </span>"
   ]
  },
  {
   "cell_type": "markdown",
   "metadata": {
    "deletable": true,
    "editable": true
   },
   "source": [
    "For a circle with radius $r$ the $(x,y)$ coordinates of the point at  angle $\\alpha$ are $x = r \\cos \\alpha$ and $y = r \\sin \\alpha$.\n",
    "\n",
    "![circle](http://pages.uoregon.edu/conery/CIS211/Orbits/circle.png)"
   ]
  },
  {
   "cell_type": "markdown",
   "metadata": {
    "deletable": true,
    "editable": true
   },
   "source": [
    "The following expressions will create lists of $x$ and $y$ coordinates for $n$ equally spaced points around the perimeter of a circle with radius 1.  When $n =6$ there will be 6 line segments, _i.e._ the \"circle\" will actually be a hexagon."
   ]
  },
  {
   "cell_type": "code",
   "execution_count": 64,
   "metadata": {
    "collapsed": true,
    "deletable": true,
    "editable": true
   },
   "outputs": [],
   "source": [
    "from math import pi as π, sin, cos"
   ]
  },
  {
   "cell_type": "code",
   "execution_count": 65,
   "metadata": {
    "collapsed": false,
    "deletable": true,
    "editable": true
   },
   "outputs": [],
   "source": [
    "n = 6\n",
    "x = [ cos(2*π*i/n) for i in range(n+1) ]\n",
    "y = [ sin(2*π*i/n) for i in range(n+1) ]"
   ]
  },
  {
   "cell_type": "markdown",
   "metadata": {
    "collapsed": false,
    "deletable": true,
    "editable": true
   },
   "source": [
    "**Note:** &nbsp; These lists have $n+1$ values so the last line segment \"completes the circle\" and connects back to the starting point."
   ]
  },
  {
   "cell_type": "markdown",
   "metadata": {},
   "source": [
    "To complete this project you need to do two things:\n",
    "* adapt the expressions shown above to make circles with the correct radius\n",
    "* figure out how to pass the list of $x$ and $y$ coordinates to `plot` so it draws the circles"
   ]
  },
  {
   "cell_type": "markdown",
   "metadata": {
    "deletable": true,
    "editable": true
   },
   "source": [
    "##### <span style=\"color:red\">Code:</span>"
   ]
  },
  {
   "cell_type": "code",
   "execution_count": 75,
   "metadata": {
    "collapsed": false,
    "deletable": false,
    "editable": true,
    "nbgrader": {
     "checksum": "129bab7a6b783e20af3c6229376c69f3",
     "grade": true,
     "grade_id": "concentric",
     "locked": false,
     "points": 10,
     "schema_version": 1,
     "solution": true
    }
   },
   "outputs": [],
   "source": [
    "def concentric(ncircles=3, inner=1, outer=2, nsegs=30):\n",
    "    '''\n",
    "    (num,num,num,num) --> None\n",
    "    This function plots a concentric circles.\n",
    "    '''\n",
    "    space = (outer - inner)/(ncircles - 1)\n",
    "    for n in range(ncircles):\n",
    "        radius = inner + (n * space)\n",
    "        x = [(cos(2*π*i/nsegs) * radius) for i in range(nsegs+1)]\n",
    "        y = [(sin(2*π*i/nsegs) * radius) for i in range(nsegs+1)]\n",
    "        plt.plot(x,y)\n",
    "    pass"
   ]
  },
  {
   "cell_type": "markdown",
   "metadata": {
    "deletable": true,
    "editable": true
   },
   "source": [
    "##### <span style=\"color:red\">Tests:</span>"
   ]
  },
  {
   "cell_type": "markdown",
   "metadata": {
    "deletable": true,
    "editable": true
   },
   "source": [
    "Use the following code cell as a \"sandbox\" if you want to do your own tests.  You can add additional cells here if you want."
   ]
  },
  {
   "cell_type": "code",
   "execution_count": null,
   "metadata": {
    "collapsed": true,
    "deletable": true,
    "editable": true
   },
   "outputs": [],
   "source": []
  },
  {
   "cell_type": "markdown",
   "metadata": {
    "deletable": true,
    "editable": true
   },
   "source": [
    "##### <span style=\"color:red\">Autograder Tests:</span>"
   ]
  },
  {
   "cell_type": "markdown",
   "metadata": {
    "deletable": true,
    "editable": true
   },
   "source": [
    "The autograder cells use a different strategy for this part of the project.  The autograder will just make sure your function does not crash.  The human grader will look at the drawing to assign points for correctness."
   ]
  },
  {
   "cell_type": "code",
   "execution_count": 76,
   "metadata": {
    "collapsed": false,
    "deletable": false,
    "editable": false,
    "nbgrader": {
     "checksum": "cf7d74bfb0c07255644c1be5f9ed64e8",
     "grade": true,
     "grade_id": "concentric_test_1",
     "locked": true,
     "points": 3,
     "schema_version": 1,
     "solution": false
    },
    "scrolled": true
   },
   "outputs": [
    {
     "data": {
      "image/png": "[encoded data removed]",
      "text/plain": [
       "<matplotlib.figure.Figure at 0x1140ba1d0>"
      ]
     },
     "metadata": {},
     "output_type": "display_data"
    }
   ],
   "source": [
    "concentric(ncircles=3, inner=2, outer=10, nsegs=6)"
   ]
  },
  {
   "cell_type": "code",
   "execution_count": 77,
   "metadata": {
    "collapsed": false,
    "deletable": false,
    "editable": false,
    "nbgrader": {
     "checksum": "d4cf1a01ea2c6b07be05e0791ef538eb",
     "grade": true,
     "grade_id": "concentric_test_2",
     "locked": true,
     "points": 3,
     "schema_version": 1,
     "solution": false
    }
   },
   "outputs": [
    {
     "data": {
      "image/png": "[encoded data removed]",
      "text/plain": [
       "<matplotlib.figure.Figure at 0x1145291d0>"
      ]
     },
     "metadata": {},
     "output_type": "display_data"
    }
   ],
   "source": [
    "concentric(ncircles=5)"
   ]
  },
  {
   "cell_type": "markdown",
   "metadata": {
    "deletable": true,
    "editable": true
   },
   "source": [
    "##### <span style=\"color:red\">Documentation:</span>"
   ]
  },
  {
   "cell_type": "markdown",
   "metadata": {
    "deletable": false,
    "editable": true,
    "nbgrader": {
     "checksum": "83d3a7f58779c1e21ac0d362b249b935",
     "grade": true,
     "grade_id": "concentric_doc",
     "locked": false,
     "points": 4,
     "schema_version": 1,
     "solution": true
    }
   },
   "source": [
    "This point of this function is a warm up function to learn how to use mathplotlib.pyplot so we can hopefully use it to eventually plot the solar system(which we do next part). We are able to use the function to find out the number of circles, ncirlcle. We use a mathematical equation to find out exactly how to plot the circles in a way that looks like a solar system. "
   ]
  },
  {
   "cell_type": "markdown",
   "metadata": {
    "collapsed": true,
    "deletable": true,
    "editable": true
   },
   "source": [
    "###  <span style=\"color:teal\">Part 4: &nbsp; Plotting Orbits (30 points)</span>"
   ]
  },
  {
   "cell_type": "markdown",
   "metadata": {
    "deletable": true,
    "editable": true
   },
   "source": [
    "Complete the definition of the `plot_orbits` function below.  The first four lines will run the simulation, using your `step_system` function, and figure out how many orbits to draw.  You need to fill in the rest:  extract the $x$ and $y$ coordinates from the list returned by `step_system` and plot the orbits.\n",
    "\n",
    "**Note:** &nbsp; The simulation will use all 10 bodies in the solar system, but the number of orbits to show will be determined by the value passed as `nplanets`.\n",
    "\n",
    "When you draw the orbits, you can pick one color and use it for all orbits, or let the library choose which colors to use.\n",
    "\n",
    "For **extra credit** get each planet's color by calling the `color` method and pass that color string to the `plot` function when drawing the planet's orbit.  The Sun is a Body object and it does not have a color attribute so just use black for this orbit."
   ]
  },
  {
   "cell_type": "markdown",
   "metadata": {
    "deletable": true,
    "editable": true
   },
   "source": [
    "##### <span style=\"color:red\">Code:</span>"
   ]
  },
  {
   "cell_type": "code",
   "execution_count": 79,
   "metadata": {
    "collapsed": true,
    "deletable": false,
    "editable": true,
    "nbgrader": {
     "checksum": "1b7d011f98605b9d70c5317a038fcac5",
     "grade": true,
     "grade_id": "plot_orbits",
     "locked": false,
     "points": 15,
     "schema_version": 1,
     "solution": true
    }
   },
   "outputs": [],
   "source": [
    "def plot_orbits(bodies, ndays = 365, nplanets=None):\n",
    "    '''\n",
    "    (class,num,None) --> None\n",
    "    '''\n",
    "    bodies = deepcopy(bodies)\n",
    "    orbits = step_system(bodies, nsteps=ndays)\n",
    "    if nplanets is None:\n",
    "        nplanets = len(bodies)\n",
    "    for n in range(ndays):\n",
    "        for i in range(len(orbits)):\n",
    "            x = []\n",
    "            y = []\n",
    "            for k in range(len(orbits[i])):\n",
    "                x.append(orbits[i][k][0])\n",
    "                y.append(orbits[i][k][1])\n",
    "            plt.plot(x,y)"
   ]
  },
  {
   "cell_type": "markdown",
   "metadata": {
    "deletable": true,
    "editable": true
   },
   "source": [
    "##### <span style=\"color:red\">Tests:</span>"
   ]
  },
  {
   "cell_type": "markdown",
   "metadata": {
    "deletable": true,
    "editable": true
   },
   "source": [
    "Use the following code cell as a \"sandbox\" if you want to do your own tests.  You can add additional cells here if you want."
   ]
  },
  {
   "cell_type": "code",
   "execution_count": null,
   "metadata": {
    "collapsed": true,
    "deletable": true,
    "editable": true
   },
   "outputs": [],
   "source": []
  },
  {
   "cell_type": "markdown",
   "metadata": {
    "deletable": true,
    "editable": true
   },
   "source": [
    "##### <span style=\"color:red\">Autograder Tests:</span>"
   ]
  },
  {
   "cell_type": "markdown",
   "metadata": {
    "deletable": true,
    "editable": true
   },
   "source": [
    "The autograder will call your `plot_orbits` function, the human grader will assign points based on the plot."
   ]
  },
  {
   "cell_type": "code",
   "execution_count": 70,
   "metadata": {
    "collapsed": false,
    "deletable": false,
    "editable": false,
    "nbgrader": {
     "checksum": "c4ec6c62e3d521ab88fc0e9096a63bd8",
     "grade": true,
     "grade_id": "orbit_test",
     "locked": true,
     "points": 8,
     "schema_version": 1,
     "solution": false
    }
   },
   "outputs": [
    {
     "data": {
      "image/png": "[encoded data removed]",
      "text/plain": [
       "<matplotlib.figure.Figure at 0x10c211f98>"
      ]
     },
     "metadata": {},
     "output_type": "display_data"
    }
   ],
   "source": [
    "plot_orbits(solar_system, nplanets=5)"
   ]
  },
  {
   "cell_type": "markdown",
   "metadata": {
    "deletable": true,
    "editable": true
   },
   "source": [
    "##### <span style=\"color:red\">Documentation:</span>"
   ]
  },
  {
   "cell_type": "markdown",
   "metadata": {},
   "source": [
    "**Important** &nbsp; If you plot orbits using each planet's own color attribute include \"Extra Credit\" in your documentation and explain how you did it."
   ]
  },
  {
   "cell_type": "markdown",
   "metadata": {
    "deletable": false,
    "editable": true,
    "nbgrader": {
     "checksum": "719feff4eca3c9a4ac722292a8c773be",
     "grade": true,
     "grade_id": "doc_3",
     "locked": false,
     "points": 7,
     "schema_version": 1,
     "solution": true
    }
   },
   "source": [
    "The point of this function is to put everything we have altogether to people able to plot a simulation of a solar system using mathplotlib.pyplot. We use the methods from the Planet class, the step_system function, and mathplotlib.py to bring it altogether. However, it takes a while for it to start working so it does take a second or two but after it runs you will see the plotting and watch as the planets orbit. "
   ]
  },
  {
   "cell_type": "code",
   "execution_count": null,
   "metadata": {
    "collapsed": true
   },
   "outputs": [],
   "source": []
  }
 ],
 "metadata": {
  "anaconda-cloud": {},
  "kernelspec": {
   "display_name": "Python [default]",
   "language": "python",
   "name": "python3"
  },
  "language_info": {
   "codemirror_mode": {
    "name": "ipython",
    "version": 3
   },
   "file_extension": ".py",
   "mimetype": "text/x-python",
   "name": "python",
   "nbconvert_exporter": "python",
   "pygments_lexer": "ipython3",
   "version": "3.5.2"
  }
 },
 "nbformat": 4,
 "nbformat_minor": 0
}
