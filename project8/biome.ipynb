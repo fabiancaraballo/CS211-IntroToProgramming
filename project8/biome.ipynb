{
 "cells": [
  {
   "cell_type": "markdown",
   "metadata": {},
   "source": [
    "# <span style=\"color:teal;\">CIS 211 Project 8:  &nbsp; Bears and Fish</span>"
   ]
  },
  {
   "cell_type": "markdown",
   "metadata": {},
   "source": [
    "##### Due 11:00 P.M. Thursday June 8"
   ]
  },
  {
   "cell_type": "markdown",
   "metadata": {},
   "source": [
    "##### <span style=\"color:red\">Group Members:</span>"
   ]
  },
  {
   "cell_type": "markdown",
   "metadata": {},
   "source": [
    "For this project you are allowed to work in small groups of up to 3 people.\n",
    "\n",
    "If you work in a group only one group member should upload this notebook to Canvas.  Edit this cell to include the name and DuckID for each member of the group:"
   ]
  },
  {
   "cell_type": "markdown",
   "metadata": {},
   "source": [
    "**Name:**\n",
    "\n",
    "**Name:**\n",
    "\n",
    "**Name:**"
   ]
  },
  {
   "cell_type": "markdown",
   "metadata": {},
   "source": [
    "##  <span style=\"color:teal;\">Overview</span> "
   ]
  },
  {
   "cell_type": "markdown",
   "metadata": {},
   "source": [
    "The last project this term is a cellular automaton style biological simulation.  \n",
    "\n",
    "The sytem is described in Chapter 11 of the Miller and Ranum text.  **Read the description of the simulation in the textbook before you start working on this project.**  Your code will be quite a bit different than the code in the book, but the rules of the simulation are the same, and you need to know how objects interact.\n",
    "\n",
    "The project has three main parts:\n",
    "* A class named World that defines a 2D grid where cells are accessed according to their row and column coordinates\n",
    "* Classes for Bear and Fish, the organisms that can inhabit the world\n",
    "* Two top level functions, `wbf` and `step_system`; the first will make a world and populate it at random with bears and fish, and the second will run a simulation using that world.\n",
    "\n",
    "We're written `step_system` for you -- it's in the last code cell in this notebook -- but you need to design, implement, and test the classes and the `wbf` function."
   ]
  },
  {
   "cell_type": "markdown",
   "metadata": {},
   "source": [
    "##  <span style=\"color:teal;\">Libraries</span> "
   ]
  },
  {
   "cell_type": "markdown",
   "metadata": {},
   "source": [
    "Your program will need to use `numpy` (a numeric processing library) and `random` (the builtin random number generator module).  You can import additional modules if you wish; add the import statements to this code cell."
   ]
  },
  {
   "cell_type": "code",
   "execution_count": 136,
   "metadata": {
    "collapsed": true
   },
   "outputs": [],
   "source": [
    "IPython = (__doc__ is not None) and ('IPython' in __doc__)\n",
    "Main    = __name__ == '__main__'\n",
    "\n",
    "import numpy as np\n",
    "import random"
   ]
  },
  {
   "cell_type": "markdown",
   "metadata": {},
   "source": [
    "##  <span style=\"color:teal;\">Event Log</span> "
   ]
  },
  {
   "cell_type": "markdown",
   "metadata": {},
   "source": [
    "A useful debugging technique is to save descriptions of events in a log.  Any code in the simulator, whether it is the top level function or a method in one of your classes, can call a function named `log`, passing it a description of an event that just occurred.  Examples might be \n",
    "```\n",
    "new Fish in cell (x,y)\n",
    "```\n",
    "or \n",
    "```\n",
    "Bear in cell (x,y) eats Fish in cell (x,y)\n",
    "```\n",
    "\n",
    "The function below uses a global variable named `logging`.  If you want to take advantage of the `log` function:\n",
    "* edit the cell to set `logging` to True\n",
    "* add calls to `log` at various points in your methods\n",
    "\n",
    "Later, when doing large scale simulations, you can turn off logging simply by setting `logging` to False before you call the top level simulation function.\n",
    "\n",
    "**Note:** &nbsp; you can change the definition of the `log` function however you want, _e.g._ you can have it write log messages to a file or print additional information."
   ]
  },
  {
   "cell_type": "code",
   "execution_count": 137,
   "metadata": {
    "collapsed": true
   },
   "outputs": [],
   "source": [
    "logging = True\n",
    "\n",
    "def log(message):\n",
    "    if logging:\n",
    "        print(message)"
   ]
  },
  {
   "cell_type": "markdown",
   "metadata": {},
   "source": [
    "##  <span style=\"color:teal;\">World (20 points)</span>"
   ]
  },
  {
   "cell_type": "markdown",
   "metadata": {},
   "source": [
    "Write the code for the World class in the code cell below.\n",
    "\n",
    "The constructor will be passed the grid size (number of rows and columns), and it should initialize all the cells to `None`.\n",
    "\n",
    "Define the following methods:\n",
    "* `add` will be passed an object and a location; it should store the object in the specified location \n",
    "* `fetch` should return the current contents of a location (which may be `None`)\n",
    "* `remove` should set a location to `None`.\n",
    "\n",
    "Finally, define a method named `biota` that will return a list of all items currently in the world.\n",
    "\n",
    "You can have additional instance methods, class variables, or class methods.  Make sure you describe any new additions in the documentation."
   ]
  },
  {
   "cell_type": "markdown",
   "metadata": {},
   "source": [
    "##### <span style=color:red>Code</span> "
   ]
  },
  {
   "cell_type": "markdown",
   "metadata": {},
   "source": [
    "**Important** Write the definition of your World class in the following code cell. Do not delete or move this cell."
   ]
  },
  {
   "cell_type": "code",
   "execution_count": 138,
   "metadata": {
    "collapsed": false,
    "deletable": false,
    "nbgrader": {
     "checksum": "9ebe2ab2a5585a69d07043b15d9bc168",
     "grade": true,
     "grade_id": "world",
     "locked": false,
     "points": 10,
     "schema_version": 1,
     "solution": true
    }
   },
   "outputs": [],
   "source": [
    "class World:\n",
    "     \n",
    "    def __init__(self, maxX, maxY):\n",
    "        self.maxX = maxX\n",
    "        self.maxY = maxY\n",
    "        self.thingList = []\n",
    "        self.grid = []\n",
    "        \n",
    "        self.grid = np.array([None] * maxX * maxY).reshape(self.maxX, self.maxY)\n",
    "        \n",
    "    def add(self, athing, coords):\n",
    "        x = coords[0]\n",
    "        y = coords[1]\n",
    "        self.grid[x][y] = athing\n",
    "        self.thingList.append(athing)\n",
    "        \n",
    "    def remove(self, athing, coords):\n",
    "        x = coords[0]\n",
    "        y = coords[1]\n",
    "        if self.emptyLocation(x,y) == False:\n",
    "            self.grid[x][y] == None\n",
    "            self.thingList.remove(athing)\n",
    "        \n",
    "    def moveThing(self, oldx, oldy, newx, newy):\n",
    "        self.grid[newy][newx] = self.grid[oldy][oldx]\n",
    "        self.grid[oldy][oldx] = None\n",
    "    \n",
    "    def emptyLocation(self, x, y):\n",
    "        if self.grid[y][x] == None:\n",
    "            return True\n",
    "        else:\n",
    "            return False\n",
    "        \n",
    "    def fetch(self, coords):\n",
    "        x = coords[0]\n",
    "        y = coords[1]\n",
    "        return self.grid[x][y]\n",
    "    \n",
    "    def biota(self):\n",
    "        return self.thingList\n",
    "    \n",
    "    def __repr__(self):\n",
    "        return str(self.grid)\n",
    "   "
   ]
  },
  {
   "cell_type": "markdown",
   "metadata": {},
   "source": [
    "##### <span style=\"color:red\">Tests:</span>"
   ]
  },
  {
   "cell_type": "markdown",
   "metadata": {},
   "source": [
    "Use the following code cell as a \"sandbox\" if you want to do your own tests.  You can add additional cells here if you want."
   ]
  },
  {
   "cell_type": "code",
   "execution_count": null,
   "metadata": {
    "collapsed": true
   },
   "outputs": [],
   "source": []
  },
  {
   "cell_type": "markdown",
   "metadata": {},
   "source": [
    "##### <span style=\"color:red\">Autograder Tests:</span>"
   ]
  },
  {
   "cell_type": "markdown",
   "metadata": {},
   "source": [
    "**Important:** &nbsp;  the code cells in this section will be used by `nbgrader` to run automated tests.  Do not move, delete or alter these cells in any way."
   ]
  },
  {
   "cell_type": "code",
   "execution_count": 139,
   "metadata": {
    "collapsed": false,
    "deletable": false,
    "editable": false,
    "nbgrader": {
     "checksum": "6cc270c952eb97c51252a67453d9bd65",
     "grade": true,
     "grade_id": "world_test_1",
     "locked": true,
     "points": 1,
     "schema_version": 1,
     "solution": false
    },
    "scrolled": false
   },
   "outputs": [],
   "source": [
    "# A new world has no objects\n",
    "w0 = World(5,5)\n",
    "\n",
    "assert len(w0.biota()) == 0"
   ]
  },
  {
   "cell_type": "code",
   "execution_count": 140,
   "metadata": {
    "collapsed": false,
    "deletable": false,
    "editable": false,
    "nbgrader": {
     "checksum": "84e27b202311eb8632a14eba67a0faf7",
     "grade": true,
     "grade_id": "world_test_2",
     "locked": true,
     "points": 2,
     "schema_version": 1,
     "solution": false
    }
   },
   "outputs": [],
   "source": [
    "# Test the add and fetch operators\n",
    "w1 = World(5,5)\n",
    "\n",
    "w1.add('hello', (0,0))\n",
    "w1.add('world', (1,1))\n",
    "\n",
    "assert w1.fetch((0,0)) == 'hello'\n",
    "assert w1.fetch((1,1)) == 'world'"
   ]
  },
  {
   "cell_type": "code",
   "execution_count": 141,
   "metadata": {
    "collapsed": false,
    "deletable": false,
    "editable": false,
    "nbgrader": {
     "checksum": "f4d1eb934d8521ec608a3fe11d47f84b",
     "grade": true,
     "grade_id": "world_test_3",
     "locked": true,
     "points": 2,
     "schema_version": 1,
     "solution": false
    }
   },
   "outputs": [],
   "source": [
    "# Test the remove and biota methods\n",
    "w2 = World(5,5)\n",
    "\n",
    "w2.add('hello', (0,0))\n",
    "w2.add('world', (1,1))\n",
    "\n",
    "assert sorted(w2.biota()) == ['hello','world']\n",
    "\n",
    "w2.remove('hello', (0,0))\n",
    "w2.remove('world', (1,1))\n",
    "\n",
    "assert w2.biota() == []"
   ]
  },
  {
   "cell_type": "markdown",
   "metadata": {},
   "source": [
    "##### <span style=color:red>Documentation</span> "
   ]
  },
  {
   "cell_type": "markdown",
   "metadata": {},
   "source": [
    "**Important** Write your documentation in the following markdown cell.  Do not delete or move this cell."
   ]
  },
  {
   "cell_type": "markdown",
   "metadata": {
    "deletable": false,
    "nbgrader": {
     "checksum": "01f3afaf338295648a9e34f9ecbb2a59",
     "grade": true,
     "grade_id": "world_doc",
     "locked": false,
     "points": 5,
     "schema_version": 1,
     "solution": true
    }
   },
   "source": [
    "The World class is the basis of the simulation game. This allow us to put all our animals in the \"world\" which the grid. With the methods add and remove, we are allowed to add and remove objects(in this case) different animals o3nto the grid. "
   ]
  },
  {
   "cell_type": "markdown",
   "metadata": {
    "collapsed": true
   },
   "source": [
    "## <span style=\"color:teal;\">Fish and Bears</span>"
   ]
  },
  {
   "cell_type": "markdown",
   "metadata": {},
   "source": [
    "To run a simulation we need to add a random collection of animals to the world.  The two types of animals in this simulation are fish and bears, and you will write class definitions named Fish and Bear that implement the behaviors of the animals."
   ]
  },
  {
   "cell_type": "markdown",
   "metadata": {},
   "source": [
    "### Fish Class"
   ]
  },
  {
   "cell_type": "markdown",
   "metadata": {},
   "source": [
    "During the simulation a Fish object needs to behave as follows:\n",
    "\n",
    "(1) Fish are susceptible to overcrowding:  if there are fish in 2 or more neighboring cells the fish dies (it's removed from the simulation)\n",
    "\n",
    "(2) A fish can reproduce if it has been alive for a certain number of time steps: a random neighboring cell is chosen, and if that cell is empty, a new fish is placed in that cell\n",
    "\n",
    "(3) A fish can move to another cell:  it picks a random direction, and if the neighboring cell in that direction is unoccupied the fish moves there\n",
    "\n",
    "The constructor for the Fish class will be passed a reference to a World object and a location, in the form of a tuple with a row number and column number (the object needs to know its location so it can look for other objects in neighboring cells).\n",
    "\n",
    "The class should include the following methods:\n",
    "* `live` implements rules 1 and 2 shown above\n",
    "* `move` implements rule 3\n",
    "* `location` returns the current grid location (row and column) of the object\n",
    "\n",
    "Define a class variable named `breed_interval` to specify how many time steps a fish must be alive before it reproduces; the initial value for this variable is 12.\n"
   ]
  },
  {
   "cell_type": "markdown",
   "metadata": {},
   "source": [
    "### Bear Class"
   ]
  },
  {
   "cell_type": "markdown",
   "metadata": {},
   "source": [
    "During the simulation a Bear object needs to behave as follows:\n",
    "\n",
    "(1) A bear looks for fish in each adjacent cell; if it finds one or more fish it eats one at random \n",
    "\n",
    "(2) If a bear has not eaten for certain number of time steps it dies (it's removed from the simulation)\n",
    "\n",
    "(3) A bear can reproduce if it has been alive for a certain number of time steps: a random neighboring cell is chosen, and if that cell is empty, a new bear is placed in that cell\n",
    "\n",
    "(4) A bear can move to another cell:  it picks a random direction, and if the neighboring cell in that direction is unoccupied the bear moves there\n",
    "\n",
    "Define a class variable named `breed_interval` to specify how many time steps a bear must be alive before it reproduces; the initial value for this variable is 8.  Define another class variable named `survive_without_food` to be the number of time steps a bear can live before it dies from starvation; the initial value for this variable is 10.\n",
    "\n",
    "The constructor will be passed a reference to a World object and a location, in the form of a tuple with a row number and column number (the object needs to know its location so it can look for other objects in neighboring cells).\n",
    "\n",
    "The class should include the following methods:\n",
    "* `live` implements rules 1, 2, and 3 shown above\n",
    "* `move` implements rule 4\n",
    "* `location` returns the current grid location (row and column) of the object"
   ]
  },
  {
   "cell_type": "markdown",
   "metadata": {},
   "source": [
    "### Animal (Base Class)?"
   ]
  },
  {
   "cell_type": "markdown",
   "metadata": {},
   "source": [
    "From the descriptions above it should be apparent that fish and bears have some things in common.\n",
    "\n",
    "For **full credit** on the coding and documnetation portions of this project you should define a class named Animal and use it as the base class for your Fish and Bear classes.  Some things to think about as you design your classes:\n",
    "* are there behaviors or operations that are common to both and that can be implemented just once in Animal?\n",
    "* perhaps a behavior or operation can be defined with a default in the Animal class, and then overridden in the derived class?\n",
    "\n",
    "You can still receive **partial credit** if you skip the Animal class and simply write completely separate Fish and Bear classes.  None of the unit tests assume there is a class named Animal."
   ]
  },
  {
   "cell_type": "markdown",
   "metadata": {},
   "source": [
    "### Details and Hints"
   ]
  },
  {
   "cell_type": "markdown",
   "metadata": {},
   "source": [
    "**Incremental Development:**  One strategy you might consider is to write a complete implementation for one class, either Bear or Fish.  After you have debugged the class and it passes its unit tests you'll have a better idea of what to implement in the other class.  Then you can start moving common behaviors to the Animal class while you are writing the other derived class.\n",
    "\n",
    "**Fish:** &nbsp; The way the simulation is defined a fish might be eaten before the top level simulation calls the `live` method.  Your `live` method should check to make sure the fish is still alive.  The easiest way to do this is to include an instance variable named `_alive` that is set to True when the fish is initialized and set to False when it dies.\n",
    "\n",
    "You can have additional instance methods, class variables, or class methods.  Make sure you describe any new additions in the documentation.\n",
    "\n",
    "**Animal:** &nbsp; Keep this in mind when you design the class hierarchy: every object has an attribute named ``__class__`` (with two underscores before and after the name).  It is a reference to the class an object was defined with.  As an example of how to use it, consider what would happen if we want to define `reproduce` in the Animal class so it is inherited by both Fish and Bear classes.  We need to know the value of `breed_interval` in each object's own class.  We can find this value using the expression\n",
    "```\n",
    "self.__class__.breed_interval\n",
    "```\n",
    "This will be a reference to `Fish.breed_interval` or `Bear.breed_interval`, depending on whether a `reproduce` was called with Fish object or Bear object.\n"
   ]
  },
  {
   "cell_type": "markdown",
   "metadata": {
    "collapsed": true
   },
   "source": [
    "### <span style=\"color:teal;\">Animal (15 points)</span>"
   ]
  },
  {
   "cell_type": "markdown",
   "metadata": {},
   "source": [
    "##### <span style=color:red>Code</span> "
   ]
  },
  {
   "cell_type": "markdown",
   "metadata": {},
   "source": [
    "If you implement the Animal class write the definition in the following code cell\n",
    "\n",
    "**Important:** &nbsp; Do not delete or move this cell."
   ]
  },
  {
   "cell_type": "code",
   "execution_count": 157,
   "metadata": {
    "collapsed": false,
    "deletable": false,
    "nbgrader": {
     "checksum": "3ab9549a288942d068326e50e49d4d3e",
     "grade": true,
     "grade_id": "animal",
     "locked": false,
     "points": 10,
     "schema_version": 1,
     "solution": true
    }
   },
   "outputs": [],
   "source": [
    "class Animal:\n",
    "    \n",
    "    def __init__(self,world, coords):\n",
    "        \n",
    "        self.xpos = coords[0]\n",
    "        self.ypos = coords[1]\n",
    "        self.world = world\n",
    "        \n",
    "        self.breedTick = 0\n",
    "        self._alive = True\n",
    "        self.world.add(self,coords) #everytime I create an animal it will automatically add it to the grid & thingList\n",
    "        self.time_alive = 0\n",
    "        \n",
    "    def setX(self,newx):\n",
    "        self.xpos = newx\n",
    "        \n",
    "    def setY(self,newy):\n",
    "        self.ypos = newy\n",
    "        \n",
    "    def getX(self):\n",
    "        return self.xpos\n",
    "    \n",
    "    def getY(self):\n",
    "        return self.ypos\n",
    "\n",
    "    def aroundAnimal(self):\n",
    "        '''\n",
    "        Returns a list of things around this thing\n",
    "        '''\n",
    "        list_thing = []\n",
    "        y = self.ypos\n",
    "        x = self.xpos\n",
    "        for item in [((y -1) % self.world.maxX), (y % self.world.maxY), ((y + 1) % self.world.maxY)]:\n",
    "            for thing in [((x-1) % self.world.maxX),(x % self.world.maxX), ((x+1) % self.world.maxX)]:\n",
    "                list_thing.append((thing,item))\n",
    "            \n",
    "                \n",
    "        list_thing.remove((x,y))\n",
    "        return list_thing\n",
    "    \n",
    "    def reproduce(self):            \n",
    "        if (self._alive and (self.time_alive % self.__class__.breed_interval == 0)):\n",
    "            none_list = []\n",
    "            for item in self.aroundAnimal():\n",
    "                if self.world.fetch(item) == None:\n",
    "                    none_list.append(item)\n",
    "            add_animal = none_list[random.randint(0,len(none_list)-1)]\n",
    "            select_animal = self.__class__(self.world,add_animal)\n",
    "        \n",
    "    def location(self):\n",
    "        return (self.xpos,self.ypos)\n",
    "    \n",
    "    def move(self):\n",
    "        move_list = []\n",
    "        for item in self.aroundAnimal():\n",
    "            if self.world.fetch(item) == None:\n",
    "                move_list.append(item)  \n",
    "        addAnimal = move_list[random.randint(0,len(move_list)-1)]\n",
    "        self.xpos = addAnimal[0]\n",
    "        self.ypos = addAnimal[1]\n",
    "        self.world.moveThing(self.xpos,self.ypos,addAnimal[0],addAnimal[1])\n",
    "    \n",
    "\n",
    "        \n",
    "        \n",
    "        \n",
    "        "
   ]
  },
  {
   "cell_type": "markdown",
   "metadata": {},
   "source": [
    "##### <span style=\"color:red\">Tests:</span>"
   ]
  },
  {
   "cell_type": "markdown",
   "metadata": {},
   "source": [
    "There are **no unit tests for the Animal class.**  If you implement this class it will be tested automatically as part of the unit tests for Bear and Fish.\n",
    "\n",
    "You can still make your own tests of the base class if you wish.  Add expressions that create and test Animal objects to the following \"sandbox\" cells."
   ]
  },
  {
   "cell_type": "code",
   "execution_count": null,
   "metadata": {
    "collapsed": true
   },
   "outputs": [],
   "source": []
  },
  {
   "cell_type": "markdown",
   "metadata": {},
   "source": [
    "##### <span style=color:red>Documentation</span> "
   ]
  },
  {
   "cell_type": "markdown",
   "metadata": {},
   "source": [
    "If you implement the Animal class write your documentation in the following markdown cell.  \n",
    "\n",
    "**Important** Do not delete or move this cell."
   ]
  },
  {
   "cell_type": "markdown",
   "metadata": {
    "deletable": false,
    "nbgrader": {
     "checksum": "a392aca77c7d06ae61b2854cb8aa25e7",
     "grade": true,
     "grade_id": "animal_doc",
     "locked": false,
     "points": 5,
     "schema_version": 1,
     "solution": true
    }
   },
   "source": [
    "This class Animal allows all animals(bears and fish) in this simulation to do basic living actions that any animal can do like reproduce and move as well as find the location of the animal. This class uses methods that will be used for both animals."
   ]
  },
  {
   "cell_type": "markdown",
   "metadata": {
    "collapsed": true
   },
   "source": [
    "### <span style=\"color:teal;\">Fish (20 points)</span>"
   ]
  },
  {
   "cell_type": "markdown",
   "metadata": {},
   "source": [
    "##### <span style=color:red>Code</span> "
   ]
  },
  {
   "cell_type": "markdown",
   "metadata": {},
   "source": [
    "**Important:** &nbsp; Write the Python code for your Fish class in the following code cell.  Do not delete or move this cell."
   ]
  },
  {
   "cell_type": "code",
   "execution_count": 158,
   "metadata": {
    "collapsed": false,
    "deletable": false,
    "nbgrader": {
     "checksum": "e370f19380738e8e035b8a3de3696caa",
     "grade": true,
     "grade_id": "fish",
     "locked": false,
     "points": 7,
     "schema_version": 1,
     "solution": true
    }
   },
   "outputs": [],
   "source": [
    "class Fish(Animal):\n",
    "    \n",
    "    breed_interval = 12\n",
    "\n",
    "    def check(self):\n",
    "        count = 0\n",
    "        for item in self.aroundAnimal():\n",
    "            if type(self.world.fetch(item)) == Fish:\n",
    "                count += 1\n",
    "        if count >= 2:\n",
    "            self.world.remove(self,self.location())\n",
    "            self._alive = False\n",
    "                \n",
    "        \n",
    "    def __repr__(self):\n",
    "        return u\"\\U0001F41F\"\n",
    "    \n",
    "    def setWorld(self,aworld):\n",
    "        self.world = aworld\n",
    "        \n",
    "        \n",
    "    def live(self):\n",
    "        self.check()\n",
    "        self.reproduce()\n",
    "        \n",
    "    "
   ]
  },
  {
   "cell_type": "markdown",
   "metadata": {},
   "source": [
    "##### <span style=\"color:red\">Tests:</span>"
   ]
  },
  {
   "cell_type": "markdown",
   "metadata": {},
   "source": [
    "Use the following code cell as a \"sandbox\" if you want to do your own tests.  You can add additional cells here if you want."
   ]
  },
  {
   "cell_type": "code",
   "execution_count": null,
   "metadata": {
    "collapsed": true
   },
   "outputs": [],
   "source": []
  },
  {
   "cell_type": "markdown",
   "metadata": {},
   "source": [
    "##### <span style=\"color:red\">Autograder Tests:</span>"
   ]
  },
  {
   "cell_type": "markdown",
   "metadata": {},
   "source": [
    "**Important:** &nbsp;  the code cells in this section will be used by `nbgrader` to run automated tests.  Do not move, delete or alter these cells in any way."
   ]
  },
  {
   "cell_type": "code",
   "execution_count": 159,
   "metadata": {
    "collapsed": true,
    "deletable": false,
    "editable": false,
    "nbgrader": {
     "checksum": "fae00be4f7fe413602a94b30d590c08c",
     "grade": true,
     "grade_id": "fish_test_1",
     "locked": true,
     "points": 2,
     "schema_version": 1,
     "solution": false
    }
   },
   "outputs": [],
   "source": [
    "# A new world has no objects\n",
    "fw1 = World(5,5)\n",
    "assert len(fw1.biota()) == 0\n",
    "\n",
    "# After adding a fish there should be one object\n",
    "f1 = Fish(fw1, (2,2))\n",
    "assert len(fw1.biota()) == 1\n",
    "\n",
    "# Test the location method\n",
    "assert f1.location() == (2,2)"
   ]
  },
  {
   "cell_type": "code",
   "execution_count": 160,
   "metadata": {
    "collapsed": false,
    "deletable": false,
    "editable": false,
    "nbgrader": {
     "checksum": "5d2282142a347d36b86d7bc1e718bf08",
     "grade": true,
     "grade_id": "fish_test_2",
     "locked": true,
     "points": 2,
     "schema_version": 1,
     "solution": false
    }
   },
   "outputs": [],
   "source": [
    "# Setting breed_interval to 1 should cause a fish to reproduce when live is called\n",
    "fw2 = World(5,5)\n",
    "Fish.breed_interval = 1\n",
    "f2 = Fish(fw2, (2,2))\n",
    "f2.live()\n",
    "assert len(fw2.biota()) == 2\n",
    "\n",
    "# Reset the interval to original value for remaining tests\n",
    "Fish.breed_interval = 12"
   ]
  },
  {
   "cell_type": "code",
   "execution_count": 161,
   "metadata": {
    "collapsed": false,
    "deletable": false,
    "editable": false,
    "nbgrader": {
     "checksum": "53e0450a407237272e2d46ede7f45d96",
     "grade": true,
     "grade_id": "fish_test_3",
     "locked": true,
     "points": 2,
     "schema_version": 1,
     "solution": false
    }
   },
   "outputs": [],
   "source": [
    "# Make three fish, the one in the middle should die from overcrowding\n",
    "fw3 = World(5,5)\n",
    "f3 = Fish(fw3, (2,2))\n",
    "Fish(fw3, (1,1))\n",
    "Fish(fw3, (3,3))\n",
    "f3.live()\n",
    "assert len(fw3.biota()) == 2"
   ]
  },
  {
   "cell_type": "code",
   "execution_count": 162,
   "metadata": {
    "collapsed": false,
    "deletable": false,
    "editable": false,
    "nbgrader": {
     "checksum": "4f8e85b525f60697dcf3e4e8f08c9861",
     "grade": true,
     "grade_id": "fish_test_4",
     "locked": true,
     "points": 2,
     "schema_version": 1,
     "solution": false
    }
   },
   "outputs": [],
   "source": [
    "# When a fish moves it should be within one cell of its original location\n",
    "fw4 = World(5,5)\n",
    "f4 = Fish(fw4, (2,2))\n",
    "f4.move()\n",
    "r, c = f4.location()\n",
    "assert (r,c) != (2,2)\n",
    "assert abs(r-2) <= 1 and abs(c-2) <= 1"
   ]
  },
  {
   "cell_type": "markdown",
   "metadata": {},
   "source": [
    "##### <span style=color:red>Documentation</span> "
   ]
  },
  {
   "cell_type": "markdown",
   "metadata": {},
   "source": [
    "**Important:** &nbsp; Write the documentation for your Fish class in the following markdown cell.  Do not delete or move this cell."
   ]
  },
  {
   "cell_type": "markdown",
   "metadata": {
    "deletable": false,
    "nbgrader": {
     "checksum": "770b6a6bacc3948526ac069ce547b553",
     "grade": true,
     "grade_id": "fish_doc",
     "locked": false,
     "points": 5,
     "schema_version": 1,
     "solution": true
    }
   },
   "source": [
    "This classes uses inheritance to become a sublcass of the Animal class. Fish and Bears in this simulation had a bunch of the same functions but they each have little differences. The fish get eaten by the bears which cause them to die more often."
   ]
  },
  {
   "cell_type": "markdown",
   "metadata": {},
   "source": [
    "###  <span style=\"color:teal;\">Bear (20 points)</span>"
   ]
  },
  {
   "cell_type": "markdown",
   "metadata": {},
   "source": [
    "##### <span style=color:red>Code</span> "
   ]
  },
  {
   "cell_type": "markdown",
   "metadata": {},
   "source": [
    "**Important:** &nbsp; Write the Python code for your Bear class in the following code cell.  Do not delete or move this cell."
   ]
  },
  {
   "cell_type": "code",
   "execution_count": 163,
   "metadata": {
    "collapsed": true,
    "deletable": false,
    "nbgrader": {
     "checksum": "4caa2fe98c36ad7d876cb07eb412314c",
     "grade": true,
     "grade_id": "bear",
     "locked": false,
     "points": 7,
     "schema_version": 1,
     "solution": true
    }
   },
   "outputs": [],
   "source": [
    "class Bear(Animal):\n",
    "    \n",
    "    breed_interval = 8\n",
    "    survive_without_food = 10\n",
    "    \n",
    "    def __init__(self, world, coords):\n",
    "        \n",
    "        Animal.__init__(self,world,coords)\n",
    "        \n",
    "        self.starveTick = 0\n",
    "        \n",
    "        \n",
    "    def __repr__(self):\n",
    "        return u\"\\U0001F43B\"\n",
    "        \n",
    "    def liveALittle(self):\n",
    "        self.breedTick = self.breedTick + 1\n",
    "        if self.breedTick >= 8:\n",
    "            self.tryToBreed()\n",
    "            \n",
    "        self.tryToEat()\n",
    "        \n",
    "        if self.starveTick == 10:\n",
    "            self.world.delThing(self)\n",
    "        else:\n",
    "            self.tryToMove()\n",
    "            \n",
    "    def tryToEat(self):\n",
    "        offsetList = [(-1,1) ,(0,1) ,(1,1),(-1,0), (1,0),(-1,-1), (0,-1), (1,-1)]\n",
    "        \n",
    "        adjprey = []\n",
    "        for offset in offsetList:\n",
    "            newx = self.xpos + offset[0]\n",
    "            newy = self.ypos + offset[1]\n",
    "            if 0 <= newx < self.world.getMaxX() and 0 <= newy < self.world.getmaxY():\n",
    "                if(not seld.world.emptyLocation(newx,newy)) and isinstance(self.world.lookAtLocation(newx, newy),Fish):\n",
    "                    adjprey.append(self.world.lookAtLocation(newx,newy))\n",
    "                    \n",
    "        if len(adjprey) > 0:\n",
    "            randomprey = adjprey[random.randrange(len(adjprey))]\n",
    "            preyx = randomprey.getX()\n",
    "            preyy = randomprey.getY()\n",
    "            \n",
    "            self.world.delThing(randomprey)\n",
    "            self.move(preyx,preyy)\n",
    "            self.starveTick = 0\n",
    "        else:\n",
    "            self.starveTick = self.starveTick + 1\n",
    "\n",
    "        '''live implements rules 1, 2, and 3 shown above\n",
    "        move implements rule 4\n",
    "        location returns the current grid location (row and column) of the object'''\n",
    "\n",
    "    def survive_without_food_function(self):\n",
    "        plenty_of_fish = []\n",
    "        for item in self.aroundAnimal():\n",
    "            if type(self.world.fetch((item[0],item[1]))) == Fish:\n",
    "                plenty_of_fish.append(item)\n",
    "        if len(plenty_of_fish) > 0:\n",
    "            fish_murder = plenty_of_fish[random.randint(0,len(plenty_of_fish)-1)]\n",
    "            self.world.remove(self,fish_murder)\n",
    "            self._alive = False\n",
    "        else:\n",
    "            self.starveTick += 1\n",
    "        if self.starveTick == Bear.survive_without_food:\n",
    "            self.world.remove(self,(self.xpos,self.ypos))\n",
    "            self._alive = False\n",
    "                \n",
    "    def live(self):\n",
    "        self.survive_without_food_function()\n",
    "        self.reproduce()"
   ]
  },
  {
   "cell_type": "markdown",
   "metadata": {},
   "source": [
    "##### <span style=\"color:red\">Tests:</span>"
   ]
  },
  {
   "cell_type": "markdown",
   "metadata": {},
   "source": [
    "Use the following code cell as a \"sandbox\" if you want to do your own tests.  You can add additional cells here if you want."
   ]
  },
  {
   "cell_type": "code",
   "execution_count": null,
   "metadata": {
    "collapsed": true
   },
   "outputs": [],
   "source": []
  },
  {
   "cell_type": "markdown",
   "metadata": {},
   "source": [
    "##### <span style=\"color:red\">Autograder Tests:</span>"
   ]
  },
  {
   "cell_type": "markdown",
   "metadata": {},
   "source": [
    "**Important:** &nbsp;  the code cells in this section will be used by `nbgrader` to run automated tests.  Do not move, delete or alter these cells in any way."
   ]
  },
  {
   "cell_type": "code",
   "execution_count": 164,
   "metadata": {
    "collapsed": true,
    "deletable": false,
    "editable": false,
    "nbgrader": {
     "checksum": "aae25b64e80339920b2b6550d47f6c85",
     "grade": true,
     "grade_id": "bear_test_1",
     "locked": true,
     "points": 2,
     "schema_version": 1,
     "solution": false
    }
   },
   "outputs": [],
   "source": [
    "# Test the Bear constructor and location method\n",
    "bw1 = World(5,5)\n",
    "b1 = Bear(bw1, (1,1))\n",
    "assert len(bw1.biota()) == 1\n",
    "assert b1.location() == (1,1)"
   ]
  },
  {
   "cell_type": "code",
   "execution_count": 165,
   "metadata": {
    "collapsed": false,
    "deletable": false,
    "editable": false,
    "nbgrader": {
     "checksum": "e64012b3bc5e3d932dbff83f72102a52",
     "grade": true,
     "grade_id": "bear_test_2",
     "locked": true,
     "points": 2,
     "schema_version": 1,
     "solution": false
    },
    "scrolled": true
   },
   "outputs": [],
   "source": [
    "# Repeat the reproduction test for Bears\n",
    "bw2 = World(5,5)\n",
    "Bear.breed_interval = 1\n",
    "b2 = Bear(bw2, (2,2))\n",
    "b2.live()\n",
    "assert len(bw2.biota()) == 2\n",
    "Bear.breed_interval = 8"
   ]
  },
  {
   "cell_type": "code",
   "execution_count": 166,
   "metadata": {
    "collapsed": false,
    "deletable": false,
    "editable": false,
    "nbgrader": {
     "checksum": "5412f977900e48901b9405e95271b2bf",
     "grade": true,
     "grade_id": "bear_test_3",
     "locked": true,
     "points": 2,
     "schema_version": 1,
     "solution": false
    }
   },
   "outputs": [],
   "source": [
    "# Make fish for the bear to eat, count the number of objects after eating\n",
    "bw3 = World(5,5)\n",
    "b3 = Bear(bw3, (2,2))\n",
    "Fish(bw3, (1,1))\n",
    "Fish(bw3, (3,3))\n",
    "b3.live()\n",
    "assert len(bw3.biota()) == 2"
   ]
  },
  {
   "cell_type": "code",
   "execution_count": 167,
   "metadata": {
    "collapsed": false,
    "deletable": false,
    "editable": false,
    "nbgrader": {
     "checksum": "5b79fa59932c1f2443793c63405fd91e",
     "grade": true,
     "grade_id": "bear_test_4",
     "locked": true,
     "points": 2,
     "schema_version": 1,
     "solution": false
    }
   },
   "outputs": [],
   "source": [
    "# Setting the survival limit to 1 should cause a Bear to starve \n",
    "bw4 = World(5,5)\n",
    "Bear.survive_without_food = 1\n",
    "b4 = Bear(bw4, (2,2))\n",
    "b4.live()\n",
    "assert len(bw4.biota()) == 0\n",
    "Bear.survive_without_food = 10"
   ]
  },
  {
   "cell_type": "code",
   "execution_count": 168,
   "metadata": {
    "collapsed": false,
    "deletable": false,
    "editable": false,
    "nbgrader": {
     "checksum": "6de47b3ebef44d9eaa744094851d38c8",
     "grade": true,
     "grade_id": "bear_test_5",
     "locked": true,
     "points": 2,
     "schema_version": 1,
     "solution": false
    }
   },
   "outputs": [],
   "source": [
    "# Repeat the move test for bears\n",
    "bw5 = World(5,5)\n",
    "b5 = Bear(bw5, (2,2))\n",
    "b5.move()\n",
    "r, c = b5.location()\n",
    "assert (r,c) != (2,2)\n",
    "assert abs(r-2) <= 1 and abs(c-2) <= 1"
   ]
  },
  {
   "cell_type": "markdown",
   "metadata": {},
   "source": [
    "##### <span style=color:red>Documentation</span> "
   ]
  },
  {
   "cell_type": "markdown",
   "metadata": {},
   "source": [
    "**Important:** &nbsp; Write the documentation for your Bear class in the following markdown cell.  Do not delete or move this cell."
   ]
  },
  {
   "cell_type": "markdown",
   "metadata": {
    "deletable": false,
    "nbgrader": {
     "checksum": "745360994a43da361e98fe01baa7f1c2",
     "grade": true,
     "grade_id": "bear_doc",
     "locked": false,
     "points": 3,
     "schema_version": 1,
     "solution": true
    }
   },
   "source": [
    "The Bear is a subclass of the Animal class and it uses inheritance as well just like the FIsh class, but like the Fish class, the Bear class has some differences that make it unique from the the Fish. Unlike the Fish, the Bears in the simulation eat, which is shown in the function TryToEat, as well as them being able to survive_without_food, which is also a function in this class. "
   ]
  },
  {
   "cell_type": "markdown",
   "metadata": {
    "collapsed": true
   },
   "source": [
    "##  <span style=\"color:teal;\">The `wbf` Function (15 points)</span>"
   ]
  },
  {
   "cell_type": "markdown",
   "metadata": {},
   "source": [
    "Fill in the body of the `wbf` function so it returns a new World object with the specified number of rows and columns and with the specified number of Bear and Fish objects at random locations.\n",
    "\n",
    "When we grade your project we will call `wbf` to make a World object and then use the main loop (implemented by `step_system`) to run the simulation."
   ]
  },
  {
   "cell_type": "code",
   "execution_count": 169,
   "metadata": {
    "collapsed": true,
    "deletable": false,
    "nbgrader": {
     "checksum": "564fd80eb200839287efb2cff08097ef",
     "grade": true,
     "grade_id": "wbf",
     "locked": false,
     "points": 9,
     "schema_version": 1,
     "solution": true
    }
   },
   "outputs": [],
   "source": [
    "def wbf(nrows, ncols, nbears, nfish):\n",
    "    '''\n",
    "        This function uses a main loop which is implemented by step_system to help run the simulation.\n",
    "    '''\n",
    "    new_world = World(nrows,ncols)\n",
    "    bear_number = 0\n",
    "    fish_number = 0\n",
    "    while bear_number < nbears:\n",
    "        rows = random.randint(0,nrows-1)\n",
    "        cols = random.randint(0,ncols-1)\n",
    "        if new_world.fetch((rows,cols)) == None:\n",
    "            bear_number += 1\n",
    "            new_bear = Bear(new_world,(rows,cols))\n",
    "    while fish_number < nfish:\n",
    "        rows = random.randint(0,nrows-1)\n",
    "        cols = random.randint(0,ncols-1)\n",
    "        if new_world.fetch((rows,cols)) == None:\n",
    "            fish_number += 1\n",
    "            new_fish = Fish(new_world,(rows,cols))\n",
    "    return new_world"
   ]
  },
  {
   "cell_type": "markdown",
   "metadata": {},
   "source": [
    "##### <span style=\"color:red\">Tests:</span>"
   ]
  },
  {
   "cell_type": "markdown",
   "metadata": {},
   "source": [
    "Use the following code cell as a \"sandbox\" if you want to do your own tests.  You can add additional cells here if you want."
   ]
  },
  {
   "cell_type": "code",
   "execution_count": null,
   "metadata": {
    "collapsed": true
   },
   "outputs": [],
   "source": []
  },
  {
   "cell_type": "markdown",
   "metadata": {},
   "source": [
    "##### <span style=\"color:red\">Autograder Tests:</span>"
   ]
  },
  {
   "cell_type": "markdown",
   "metadata": {},
   "source": [
    "**Important:** &nbsp;  the code cells in this section will be used by `nbgrader` to run automated tests.  Do not move, delete or alter these cells in any way."
   ]
  },
  {
   "cell_type": "code",
   "execution_count": 170,
   "metadata": {
    "collapsed": true,
    "deletable": false,
    "editable": false,
    "nbgrader": {
     "checksum": "d46f3f598f19c9bd50c3d1999d2a080c",
     "grade": true,
     "grade_id": "wbf_test",
     "locked": true,
     "points": 3,
     "schema_version": 1,
     "solution": false
    }
   },
   "outputs": [],
   "source": [
    "w = wbf(10,10,3,12)\n",
    "\n",
    "dct = { Bear: 0, Fish: 0 }\n",
    "for x in w.biota():\n",
    "    dct[x.__class__] += 1\n",
    "\n",
    "assert dct[Bear] == 3\n",
    "assert dct[Fish] == 12"
   ]
  },
  {
   "cell_type": "markdown",
   "metadata": {},
   "source": [
    "##### <span style=color:red>Documentation</span> "
   ]
  },
  {
   "cell_type": "markdown",
   "metadata": {},
   "source": [
    "**Important:** &nbsp; Write the documentation for your `wbf` function in the following markdown cell.  Do not delete or move this cell."
   ]
  },
  {
   "cell_type": "markdown",
   "metadata": {
    "deletable": false,
    "nbgrader": {
     "checksum": "14872fdba29df6b85168b6ed26a9607e",
     "grade": true,
     "grade_id": "wbf_doc",
     "locked": false,
     "points": 3,
     "schema_version": 1,
     "solution": true
    }
   },
   "source": [
    "This function helps run the simulation by using the World class, Animal class, and the Bear class to run the simulation. It also imports random to help always give us different outcomes of the simulation. "
   ]
  },
  {
   "cell_type": "markdown",
   "metadata": {
    "collapsed": true
   },
   "source": [
    "##  <span style=\"color:teal;\">The `step_system` Function</span>"
   ]
  },
  {
   "cell_type": "markdown",
   "metadata": {},
   "source": [
    "We've written this function for you.  It will run a single time step of the simulation.  Pass it a World object containing a grid populated with Bear and Fish objects and it will (a) see which animals survive, then (b) allow all the animals to move to a new location."
   ]
  },
  {
   "cell_type": "code",
   "execution_count": 171,
   "metadata": {
    "collapsed": true
   },
   "outputs": [],
   "source": [
    "def step_system(world):\n",
    "    for x in world.biota():\n",
    "        x.live()\n",
    "    for x in world.biota():\n",
    "        x.move()"
   ]
  },
  {
   "cell_type": "markdown",
   "metadata": {},
   "source": [
    "The code cell below is an example of how to run a complete simulation.  Call `wbf` to make a World populated by Bear and Fish objects, and then run the simulation for some number of iterations.\n",
    "\n",
    "You can run this cell to do an \"integration test\" of your code.  You can also copy it and modify it for the exercises in the next section."
   ]
  },
  {
   "cell_type": "code",
   "execution_count": 172,
   "metadata": {
    "collapsed": false
   },
   "outputs": [
    {
     "name": "stdout",
     "output_type": "stream",
     "text": [
      "[[None None None None None 🐻 None None None 🐟]\n",
      " [None None None None None None None None None 🐟]\n",
      " [None None None 🐻 None None None None None None]\n",
      " [None None None None 🐟 None None None None None]\n",
      " [None None None None None None 🐟 None None 🐟]\n",
      " [None None None 🐟 None None None None 🐟 None]\n",
      " [None None None None None None None None None None]\n",
      " [🐻 None 🐟 None None None 🐟 None None None]\n",
      " [🐟 None None None None None 🐟 None None None]\n",
      " [None None None None None None None None 🐟 None]]\n",
      "[[None None 🐻 🐻 None 🐻 None None None None]\n",
      " [None None None 🐻 None None None None 🐟 🐟]\n",
      " [None None None 🐻 None None None None None None]\n",
      " [None None None None 🐟 🐟 None None None None]\n",
      " [None None None None None 🐟 🐟 None None None]\n",
      " [🐟 🐟 None 🐟 None None None None 🐟 None]\n",
      " [None None None 🐟 None None 🐟 None 🐟 None]\n",
      " [🐻 None 🐟 None None None 🐟 🐟 None None]\n",
      " [None 🐟 🐻 None None None 🐟 None None None]\n",
      " [None None None 🐻 None None None 🐟 🐟 None]]\n",
      "[[🐟 None None 🐻 None 🐻 None None None None]\n",
      " [None 🐟 🐟 None None None None None 🐟 🐟]\n",
      " [None 🐟 None None 🐻 None None None None None]\n",
      " [None None None None None 🐟 None None None None]\n",
      " [None None 🐟 None None None None None None None]\n",
      " [🐟 None None 🐟 None None None None None None]\n",
      " [None None None 🐟 None None 🐟 None 🐟 None]\n",
      " [🐻 None 🐟 None None None 🐟 🐟 None None]\n",
      " [None 🐟 🐻 🐻 🐻 None 🐟 None None None]\n",
      " [None None None 🐻 None 🐻 None 🐟 🐟 None]]\n"
     ]
    }
   ],
   "source": [
    "if IPython:\n",
    "    logging = True\n",
    "    w = wbf(10,10,3,12)\n",
    "    for i in range(3):\n",
    "        print(w)\n",
    "        step_system(w)"
   ]
  },
  {
   "cell_type": "markdown",
   "metadata": {
    "collapsed": true
   },
   "source": [
    "##  <span style=\"color:teal;\">Experiments (10 points)</span>"
   ]
  },
  {
   "cell_type": "markdown",
   "metadata": {},
   "source": [
    "Run some experiments with the top level simulation loop and describe the results in the markdown cell below.  Some ideas of things to try:\n",
    "* The settings for the Bear class `breed_interval` and `survive_without_food` variables come from the textbook.  Will the world ever run out of bears with these settings?\n",
    "* Change the settings so `Bear.breed_interval` is larger than `Bear.survive_without_food`.  How does that change the outcome?\n",
    "* Set the `breed_interval` counter for the Fish class to a smaller number (e.g. 4) so the world has more fish.  What effect does that have?\n",
    "* Write a function that runs the simulation for a specified number of generations, or until there are no more objects left in the grid.  What combination of parameters leads to the largest number of time steps before the simulation halts?"
   ]
  },
  {
   "cell_type": "markdown",
   "metadata": {
    "collapsed": true,
    "deletable": false,
    "nbgrader": {
     "checksum": "cc54d46b405cd1c694c7a930f2ede888",
     "grade": true,
     "grade_id": "experiments",
     "locked": false,
     "points": 10,
     "schema_version": 1,
     "solution": true
    }
   },
   "source": [
    "When you change diffrent methods throughout the classses in Bear and Fish you can notice the change in different outcomes. When you change the breed intervals you notice the change in the number of fish and bears. Sometimes there will be more bears and less fish, or vice versa. It is intersting to run and see how the simulation really gives you a feel for changes in the environment based of the changes you make to the ecosystem in which they live in."
   ]
  },
  {
   "cell_type": "markdown",
   "metadata": {
    "collapsed": true
   },
   "source": [
    "##  <span style=\"color:teal;\">Extra Credit Ideas</span>"
   ]
  },
  {
   "cell_type": "markdown",
   "metadata": {},
   "source": [
    "Here are some suggestions for ways to extend the simulation.  We will consider other types of extensions -- send a request to `conery@uoregon.edu` with your proposal.\n",
    "\n",
    "* Implement the Plant class described in Section 10.7 of the textbook, and modify the Fish class so fish eat plants and die if they don't find enough food.\n",
    "\n",
    "* If you implement Plant, how does that affect the class hierarchy?  Is there an even more general class called Organism, with Plants and Animals subtypes of organism?\n",
    "\n",
    "* Experiment with data structures: make a second version of the World class, but use a list-of-lists approach to making the grid.  Which is more efficient, a list of lists or a numpy array?  Which scales better when larger worlds are used in the simulation?\n",
    "\n",
    "* Implement a GUI using `tkinter` that is similar to the Solar System GUI.  A canvas should display the world along with images for the Bear and Fish objects (you can download `Bear.gif` and `Fish.gif` from Canvas).  Use a spinbox or text entry box to specify the number of Bear and Fish objects and the number of time steps to run.  Include a Run button to start the simulation.\n"
   ]
  },
  {
   "cell_type": "code",
   "execution_count": null,
   "metadata": {
    "collapsed": true
   },
   "outputs": [],
   "source": []
  },
  {
   "cell_type": "code",
   "execution_count": null,
   "metadata": {
    "collapsed": true
   },
   "outputs": [],
   "source": []
  },
  {
   "cell_type": "code",
   "execution_count": null,
   "metadata": {
    "collapsed": true
   },
   "outputs": [],
   "source": []
  },
  {
   "cell_type": "code",
   "execution_count": null,
   "metadata": {
    "collapsed": true
   },
   "outputs": [],
   "source": []
  }
 ],
 "metadata": {
  "anaconda-cloud": {},
  "kernelspec": {
   "display_name": "Python [default]",
   "language": "python",
   "name": "python3"
  },
  "language_info": {
   "codemirror_mode": {
    "name": "ipython",
    "version": 3
   },
   "file_extension": ".py",
   "mimetype": "text/x-python",
   "name": "python",
   "nbconvert_exporter": "python",
   "pygments_lexer": "ipython3",
   "version": "3.5.2"
  }
 },
 "nbformat": 4,
 "nbformat_minor": 1
}
