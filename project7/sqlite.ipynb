{
 "cells": [
  {
   "cell_type": "markdown",
   "metadata": {},
   "source": [
    "# <span style=\"color:teal;\">CIS 211 Project 7:  SQLite</span>"
   ]
  },
  {
   "cell_type": "markdown",
   "metadata": {},
   "source": [
    "##### Due 11:00 P.M. Tuesday May 30"
   ]
  },
  {
   "cell_type": "markdown",
   "metadata": {},
   "source": [
    "##### <span style=\"color:red\">Group Members:</span>"
   ]
  },
  {
   "cell_type": "markdown",
   "metadata": {},
   "source": [
    "For this project students are allowed to work in small groups (maximum group size: 3). \n",
    "\n",
    "Only one member of the group should submit the completed notebook.  All group members will receive the same score on the project.\n",
    "\n",
    "Edit this cell to include the name and DuckID for each member of the group (leave the cell blank if you worked on the project by yourself)."
   ]
  },
  {
   "cell_type": "markdown",
   "metadata": {},
   "source": [
    "**Name:**\n",
    "\n",
    "**Name:**\n",
    "\n",
    "**Name:**"
   ]
  },
  {
   "cell_type": "markdown",
   "metadata": {},
   "source": [
    "This project will give you some experience writing database queries in SQL and connecting to a SQLite database from Python."
   ]
  },
  {
   "cell_type": "markdown",
   "metadata": {},
   "source": [
    "### <span style=\"color:teal\">Setup</span>"
   ]
  },
  {
   "cell_type": "markdown",
   "metadata": {},
   "source": [
    "Download the Sakila database (the file named `sakila211.db`) and move it to the same folder as this IPython notebook."
   ]
  },
  {
   "cell_type": "markdown",
   "metadata": {},
   "source": [
    "### <span style=\"color:teal\">Executing Queries in an IPython Notebook</span>"
   ]
  },
  {
   "cell_type": "markdown",
   "metadata": {},
   "source": [
    "To solve the problems in the first two sections of this project you need to write a SQL query based on the tables in the Sakila211 database.  \n",
    "\n",
    "To execute a query from an IPython Notebook write the query in quotes as part of a shell command:\n",
    "```\n",
    "! sqlite3 sakila211.db \"...\"\n",
    "```\n",
    "\n",
    "For example, to answer the question \"What are the names and ratings of the films\" your code cell would have\n",
    "```\n",
    "! sqlite3 sakila211.db \"select title, rating from film\"\n",
    "```\n",
    "\n",
    "Some of the queries will produce a lot of output.  You can add a `LIMIT` clause to any query if you want to reduce the size of the output."
   ]
  },
  {
   "cell_type": "markdown",
   "metadata": {},
   "source": [
    "**Note:** &nbsp; Your grade will not depend on the output format.  If want to have a nicer looking output that includes column headers create a file named `.sqliterc` in your home folder and add these two lines:\n",
    "```\n",
    ".header on\n",
    ".mode column\n",
    "```"
   ]
  },
  {
   "cell_type": "markdown",
   "metadata": {},
   "source": [
    "## <span style=\"color:teal\">Part 1:  &nbsp; Queries</span>"
   ]
  },
  {
   "cell_type": "markdown",
   "metadata": {},
   "source": [
    "The following questions can all be answered using records from a single table."
   ]
  },
  {
   "cell_type": "markdown",
   "metadata": {},
   "source": [
    "(1) What are the first and last names of all the customers?"
   ]
  },
  {
   "cell_type": "code",
   "execution_count": 3,
   "metadata": {
    "collapsed": false,
    "deletable": false,
    "nbgrader": {
     "checksum": "91ee3c877c70f8544f5ce07e910194bf",
     "grade": true,
     "grade_id": "query_1",
     "locked": false,
     "points": 2,
     "schema_version": 1,
     "solution": true
    }
   },
   "outputs": [
    {
     "name": "stdout",
     "output_type": "stream",
     "text": [
      "Mary|Smith\r\n",
      "Patricia|Johnson\r\n",
      "Linda|Williams\r\n",
      "Barbara|Jones\r\n",
      "Elizabeth|Brown\r\n",
      "Jennifer|Davis\r\n",
      "Maria|Miller\r\n",
      "Susan|Wilson\r\n",
      "Margaret|Moore\r\n",
      "Dorothy|Taylor\r\n",
      "Lisa|Anderson\r\n",
      "Nancy|Thomas\r\n",
      "Karen|Jackson\r\n",
      "Betty|White\r\n",
      "Helen|Harris\r\n",
      "Sandra|Martin\r\n",
      "Donna|Thompson\r\n",
      "Carol|Garcia\r\n",
      "Ruth|Martinez\r\n",
      "Sharon|Robinson\r\n",
      "Michelle|Clark\r\n",
      "Laura|Rodriguez\r\n",
      "Sarah|Lewis\r\n",
      "Kimberly|Lee\r\n",
      "Deborah|Walker\r\n",
      "Jessica|Hall\r\n",
      "Shirley|Allen\r\n",
      "Cynthia|Young\r\n",
      "Angela|Hernandez\r\n",
      "Melissa|King\r\n",
      "Brenda|Wright\r\n",
      "Amy|Lopez\r\n",
      "Anna|Hill\r\n",
      "Rebecca|Scott\r\n",
      "Virginia|Green\r\n",
      "Kathleen|Adams\r\n",
      "Pamela|Baker\r\n",
      "Martha|Gonzalez\r\n",
      "Debra|Nelson\r\n",
      "Amanda|Carter\r\n",
      "Stephanie|Mitchell\r\n",
      "Carolyn|Perez\r\n",
      "Christine|Roberts\r\n",
      "Marie|Turner\r\n",
      "Janet|Phillips\r\n",
      "Catherine|Campbell\r\n",
      "Frances|Parker\r\n",
      "Ann|Evans\r\n",
      "Joyce|Edwards\r\n",
      "Diane|Collins\r\n",
      "Alice|Stewart\r\n",
      "Julie|Sanchez\r\n",
      "Heather|Morris\r\n",
      "Teresa|Rogers\r\n",
      "Doris|Reed\r\n",
      "Gloria|Cook\r\n",
      "Evelyn|Morgan\r\n",
      "Jean|Bell\r\n",
      "Cheryl|Murphy\r\n",
      "Mildred|Bailey\r\n",
      "Katherine|Rivera\r\n",
      "Joan|Cooper\r\n",
      "Ashley|Richardson\r\n",
      "Judith|Cox\r\n",
      "Rose|Howard\r\n",
      "Janice|Ward\r\n",
      "Kelly|Torres\r\n",
      "Nicole|Peterson\r\n",
      "Judy|Gray\r\n",
      "Christina|Ramirez\r\n",
      "Kathy|James\r\n",
      "Theresa|Watson\r\n",
      "Beverly|Brooks\r\n",
      "Denise|Kelly\r\n",
      "Tammy|Sanders\r\n",
      "Irene|Price\r\n",
      "Jane|Bennett\r\n",
      "Lori|Wood\r\n",
      "Rachel|Barnes\r\n",
      "Marilyn|Ross\r\n",
      "Andrea|Henderson\r\n",
      "Kathryn|Coleman\r\n",
      "Louise|Jenkins\r\n",
      "Sara|Perry\r\n",
      "Anne|Powell\r\n",
      "Jacqueline|Long\r\n",
      "Wanda|Patterson\r\n",
      "Bonnie|Hughes\r\n",
      "Julia|Flores\r\n",
      "Ruby|Washington\r\n",
      "Lois|Butler\r\n",
      "Tina|Simmons\r\n",
      "Phyllis|Foster\r\n",
      "Norma|Gonzales\r\n",
      "Paula|Bryant\r\n",
      "Diana|Alexander\r\n",
      "Annie|Russell\r\n",
      "Lillian|Griffin\r\n",
      "Emily|Diaz\r\n",
      "Robin|Hayes\r\n",
      "Peggy|Myers\r\n",
      "Crystal|Ford\r\n",
      "Gladys|Hamilton\r\n",
      "Rita|Graham\r\n",
      "Dawn|Sullivan\r\n",
      "Connie|Wallace\r\n",
      "Florence|Woods\r\n",
      "Tracy|Cole\r\n",
      "Edna|West\r\n",
      "Tiffany|Jordan\r\n",
      "Carmen|Owens\r\n",
      "Rosa|Reynolds\r\n",
      "Cindy|Fisher\r\n",
      "Grace|Ellis\r\n",
      "Wendy|Harrison\r\n",
      "Victoria|Gibson\r\n",
      "Edith|Mcdonald\r\n",
      "Kim|Cruz\r\n",
      "Sherry|Marshall\r\n",
      "Sylvia|Ortiz\r\n",
      "Josephine|Gomez\r\n",
      "Thelma|Murray\r\n",
      "Shannon|Freeman\r\n",
      "Sheila|Wells\r\n",
      "Ethel|Webb\r\n",
      "Ellen|Simpson\r\n",
      "Elaine|Stevens\r\n",
      "Marjorie|Tucker\r\n",
      "Carrie|Porter\r\n",
      "Charlotte|Hunter\r\n",
      "Monica|Hicks\r\n",
      "Esther|Crawford\r\n",
      "Pauline|Henry\r\n",
      "Emma|Boyd\r\n",
      "Juanita|Mason\r\n",
      "Anita|Morales\r\n",
      "Rhonda|Kennedy\r\n",
      "Hazel|Warren\r\n",
      "Amber|Dixon\r\n",
      "Eva|Ramos\r\n",
      "Debbie|Reyes\r\n",
      "April|Burns\r\n",
      "Leslie|Gordon\r\n",
      "Clara|Shaw\r\n",
      "Lucille|Holmes\r\n",
      "Jamie|Rice\r\n",
      "Joanne|Robertson\r\n",
      "Eleanor|Hunt\r\n",
      "Valerie|Black\r\n",
      "Danielle|Daniels\r\n",
      "Megan|Palmer\r\n",
      "Alicia|Mills\r\n",
      "Suzanne|Nichols\r\n",
      "Michele|Grant\r\n",
      "Gail|Knight\r\n",
      "Bertha|Ferguson\r\n",
      "Darlene|Rose\r\n",
      "Veronica|Stone\r\n",
      "Jill|Hawkins\r\n",
      "Erin|Dunn\r\n",
      "Geraldine|Perkins\r\n",
      "Lauren|Hudson\r\n",
      "Cathy|Spencer\r\n",
      "Joann|Gardner\r\n",
      "Lorraine|Stephens\r\n",
      "Lynn|Payne\r\n",
      "Sally|Pierce\r\n",
      "Regina|Berry\r\n",
      "Erica|Matthews\r\n",
      "Beatrice|Arnold\r\n",
      "Dolores|Wagner\r\n",
      "Bernice|Willis\r\n",
      "Audrey|Ray\r\n",
      "Yvonne|Watkins\r\n",
      "Annette|Olson\r\n",
      "June|Carroll\r\n",
      "Samantha|Duncan\r\n",
      "Marion|Snyder\r\n",
      "Dana|Hart\r\n",
      "Stacy|Cunningham\r\n",
      "Ana|Bradley\r\n",
      "Renee|Lane\r\n",
      "Ida|Andrews\r\n",
      "Vivian|Ruiz\r\n",
      "Roberta|Harper\r\n",
      "Holly|Fox\r\n",
      "Brittany|Riley\r\n",
      "Melanie|Armstrong\r\n",
      "Loretta|Carpenter\r\n",
      "Yolanda|Weaver\r\n",
      "Jeanette|Greene\r\n",
      "Laurie|Lawrence\r\n",
      "Katie|Elliott\r\n",
      "Kristen|Chavez\r\n",
      "Vanessa|Sims\r\n",
      "Alma|Austin\r\n",
      "Sue|Peters\r\n",
      "Elsie|Kelley\r\n",
      "Beth|Franklin\r\n",
      "Jeanne|Lawson\r\n",
      "Vicki|Fields\r\n",
      "Carla|Gutierrez\r\n",
      "Tara|Ryan\r\n",
      "Rosemary|Schmidt\r\n",
      "Eileen|Carr\r\n",
      "Terri|Vasquez\r\n",
      "Gertrude|Castillo\r\n",
      "Lucy|Wheeler\r\n",
      "Tonya|Chapman\r\n",
      "Ella|Oliver\r\n",
      "Stacey|Montgomery\r\n",
      "Wilma|Richards\r\n",
      "Gina|Williamson\r\n",
      "Kristin|Johnston\r\n",
      "Jessie|Banks\r\n",
      "Natalie|Meyer\r\n",
      "Agnes|Bishop\r\n",
      "Vera|Mccoy\r\n",
      "Willie|Howell\r\n",
      "Charlene|Alvarez\r\n",
      "Bessie|Morrison\r\n",
      "Delores|Hansen\r\n",
      "Melinda|Fernandez\r\n",
      "Pearl|Garza\r\n",
      "Arlene|Harvey\r\n",
      "Maureen|Little\r\n",
      "Colleen|Burton\r\n",
      "Allison|Stanley\r\n",
      "Tamara|Nguyen\r\n",
      "Joy|George\r\n",
      "Georgia|Jacobs\r\n",
      "Constance|Reid\r\n",
      "Lillie|Kim\r\n",
      "Claudia|Fuller\r\n",
      "Jackie|Lynch\r\n",
      "Marcia|Dean\r\n",
      "Tanya|Gilbert\r\n",
      "Nellie|Garrett\r\n",
      "Minnie|Romero\r\n",
      "Marlene|Welch\r\n",
      "Heidi|Larson\r\n",
      "Glenda|Frazier\r\n",
      "Lydia|Burke\r\n",
      "Viola|Hanson\r\n",
      "Courtney|Day\r\n",
      "Marian|Mendoza\r\n",
      "Stella|Moreno\r\n",
      "Caroline|Bowman\r\n",
      "Dora|Medina\r\n",
      "Jo|Fowler\r\n",
      "Vickie|Brewer\r\n",
      "Mattie|Hoffman\r\n",
      "Terry|Carlson\r\n",
      "Maxine|Silva\r\n",
      "Irma|Pearson\r\n",
      "Mabel|Holland\r\n",
      "Marsha|Douglas\r\n",
      "Myrtle|Fleming\r\n",
      "Lena|Jensen\r\n",
      "Christy|Vargas\r\n",
      "Deanna|Byrd\r\n",
      "Patsy|Davidson\r\n",
      "Hilda|Hopkins\r\n",
      "Gwendolyn|May\r\n",
      "Jennie|Terry\r\n",
      "Nora|Herrera\r\n",
      "Margie|Wade\r\n",
      "Nina|Soto\r\n",
      "Cassandra|Walters\r\n",
      "Leah|Curtis\r\n",
      "Penny|Neal\r\n",
      "Kay|Caldwell\r\n",
      "Priscilla|Lowe\r\n",
      "Naomi|Jennings\r\n",
      "Carole|Barnett\r\n",
      "Brandy|Graves\r\n",
      "Olga|Jimenez\r\n",
      "Billie|Horton\r\n",
      "Dianne|Shelton\r\n",
      "Tracey|Barrett\r\n",
      "Leona|Obrien\r\n",
      "Jenny|Castro\r\n",
      "Felicia|Sutton\r\n",
      "Sonia|Gregory\r\n",
      "Miriam|Mckinney\r\n",
      "Velma|Lucas\r\n",
      "Becky|Miles\r\n",
      "Bobbie|Craig\r\n",
      "Violet|Rodriquez\r\n",
      "Kristina|Chambers\r\n",
      "Toni|Holt\r\n",
      "Misty|Lambert\r\n",
      "Mae|Fletcher\r\n",
      "Shelly|Watts\r\n",
      "Daisy|Bates\r\n",
      "Ramona|Hale\r\n",
      "Sherri|Rhodes\r\n",
      "Erika|Pena\r\n",
      "James|Gannon\r\n",
      "John|Farnsworth\r\n",
      "Robert|Baughman\r\n",
      "Michael|Silverman\r\n",
      "William|Satterfield\r\n",
      "David|Royal\r\n",
      "Richard|Mccrary\r\n",
      "Charles|Kowalski\r\n",
      "Joseph|Joy\r\n",
      "Thomas|Grigsby\r\n",
      "Christopher|Greco\r\n",
      "Daniel|Cabral\r\n",
      "Paul|Trout\r\n",
      "Mark|Rinehart\r\n",
      "Donald|Mahon\r\n",
      "George|Linton\r\n",
      "Kenneth|Gooden\r\n",
      "Steven|Curley\r\n",
      "Edward|Baugh\r\n",
      "Brian|Wyman\r\n",
      "Ronald|Weiner\r\n",
      "Anthony|Schwab\r\n",
      "Kevin|Schuler\r\n",
      "Jason|Morrissey\r\n",
      "Matthew|Mahan\r\n",
      "Gary|Coy\r\n",
      "Timothy|Bunn\r\n",
      "Jose|Andrew\r\n",
      "Larry|Thrasher\r\n",
      "Jeffrey|Spear\r\n",
      "Frank|Waggoner\r\n",
      "Scott|Shelley\r\n",
      "Eric|Robert\r\n",
      "Stephen|Qualls\r\n",
      "Andrew|Purdy\r\n",
      "Raymond|Mcwhorter\r\n",
      "Gregory|Mauldin\r\n",
      "Joshua|Mark\r\n",
      "Jerry|Jordon\r\n",
      "Dennis|Gilman\r\n",
      "Walter|Perryman\r\n",
      "Patrick|Newsom\r\n",
      "Peter|Menard\r\n",
      "Harold|Martino\r\n",
      "Douglas|Graf\r\n",
      "Henry|Billingsley\r\n",
      "Carl|Artis\r\n",
      "Arthur|Simpkins\r\n",
      "Ryan|Salisbury\r\n",
      "Roger|Quintanilla\r\n",
      "Joe|Gilliland\r\n",
      "Juan|Fraley\r\n",
      "Jack|Foust\r\n",
      "Albert|Crouse\r\n",
      "Jonathan|Scarborough\r\n",
      "Justin|Ngo\r\n",
      "Terry|Grissom\r\n",
      "Gerald|Fultz\r\n",
      "Keith|Rico\r\n",
      "Samuel|Marlow\r\n",
      "Willie|Markham\r\n",
      "Ralph|Madrigal\r\n",
      "Lawrence|Lawton\r\n",
      "Nicholas|Barfield\r\n",
      "Roy|Whiting\r\n",
      "Benjamin|Varney\r\n",
      "Bruce|Schwarz\r\n",
      "Brandon|Huey\r\n",
      "Adam|Gooch\r\n",
      "Harry|Arce\r\n",
      "Fred|Wheat\r\n",
      "Wayne|Truong\r\n",
      "Billy|Poulin\r\n",
      "Steve|Mackenzie\r\n",
      "Louis|Leone\r\n",
      "Jeremy|Hurtado\r\n",
      "Aaron|Selby\r\n",
      "Randy|Gaither\r\n",
      "Howard|Fortner\r\n",
      "Eugene|Culpepper\r\n",
      "Carlos|Coughlin\r\n",
      "Russell|Brinson\r\n",
      "Bobby|Boudreau\r\n",
      "Victor|Barkley\r\n",
      "Martin|Bales\r\n",
      "Ernest|Stepp\r\n",
      "Phillip|Holm\r\n",
      "Todd|Tan\r\n",
      "Jesse|Schilling\r\n",
      "Craig|Morrell\r\n",
      "Alan|Kahn\r\n",
      "Shawn|Heaton\r\n",
      "Clarence|Gamez\r\n",
      "Sean|Douglass\r\n",
      "Philip|Causey\r\n",
      "Chris|Brothers\r\n",
      "Johnny|Turpin\r\n",
      "Earl|Shanks\r\n",
      "Jimmy|Schrader\r\n",
      "Antonio|Meek\r\n",
      "Danny|Isom\r\n",
      "Bryan|Hardison\r\n",
      "Tony|Carranza\r\n",
      "Luis|Yanez\r\n",
      "Mike|Way\r\n",
      "Stanley|Scroggins\r\n",
      "Leonard|Schofield\r\n",
      "Nathan|Runyon\r\n",
      "Dale|Ratcliff\r\n",
      "Manuel|Murrell\r\n",
      "Rodney|Moeller\r\n",
      "Curtis|Irby\r\n",
      "Norman|Currier\r\n",
      "Allen|Butterfield\r\n",
      "Marvin|Yee\r\n",
      "Vincent|Ralston\r\n",
      "Glenn|Pullen\r\n",
      "Jeffery|Pinson\r\n",
      "Travis|Estep\r\n",
      "Jeff|East\r\n",
      "Chad|Carbone\r\n",
      "Jacob|Lance\r\n",
      "Lee|Hawks\r\n",
      "Melvin|Ellington\r\n",
      "Alfred|Casillas\r\n",
      "Kyle|Spurlock\r\n",
      "Francis|Sikes\r\n",
      "Bradley|Motley\r\n",
      "Jesus|Mccartney\r\n",
      "Herbert|Kruger\r\n",
      "Frederick|Isbell\r\n",
      "Ray|Houle\r\n",
      "Joel|Francisco\r\n",
      "Edwin|Burk\r\n",
      "Don|Bone\r\n",
      "Eddie|Tomlin\r\n",
      "Ricky|Shelby\r\n",
      "Troy|Quigley\r\n",
      "Randall|Neumann\r\n",
      "Barry|Lovelace\r\n",
      "Alexander|Fennell\r\n",
      "Bernard|Colby\r\n",
      "Mario|Cheatham\r\n",
      "Leroy|Bustamante\r\n",
      "Francisco|Skidmore\r\n",
      "Marcus|Hidalgo\r\n",
      "Micheal|Forman\r\n",
      "Theodore|Culp\r\n",
      "Clifford|Bowens\r\n",
      "Miguel|Betancourt\r\n",
      "Oscar|Aquino\r\n",
      "Jay|Robb\r\n",
      "Jim|Rea\r\n",
      "Tom|Milner\r\n",
      "Calvin|Martel\r\n",
      "Alex|Gresham\r\n",
      "Jon|Wiles\r\n",
      "Ronnie|Ricketts\r\n",
      "Bill|Gavin\r\n",
      "Lloyd|Dowd\r\n",
      "Tommy|Collazo\r\n",
      "Leon|Bostic\r\n",
      "Derek|Blakely\r\n",
      "Warren|Sherrod\r\n",
      "Darrell|Power\r\n",
      "Jerome|Kenyon\r\n",
      "Floyd|Gandy\r\n",
      "Leo|Ebert\r\n",
      "Alvin|Deloach\r\n",
      "Tim|Cary\r\n",
      "Wesley|Bull\r\n",
      "Gordon|Allard\r\n",
      "Dean|Sauer\r\n",
      "Greg|Robins\r\n",
      "Jorge|Olivares\r\n",
      "Dustin|Gillette\r\n",
      "Pedro|Chestnut\r\n",
      "Derrick|Bourque\r\n",
      "Dan|Paine\r\n",
      "Lewis|Lyman\r\n",
      "Zachary|Hite\r\n",
      "Corey|Hauser\r\n",
      "Herman|Devore\r\n",
      "Maurice|Crawley\r\n",
      "Vernon|Chapa\r\n",
      "Roberto|Vu\r\n",
      "Clyde|Tobias\r\n",
      "Glen|Talbert\r\n",
      "Hector|Poindexter\r\n",
      "Shane|Millard\r\n",
      "Ricardo|Meador\r\n",
      "Sam|Mcduffie\r\n",
      "Rick|Mattox\r\n",
      "Lester|Kraus\r\n",
      "Brent|Harkins\r\n",
      "Ramon|Choate\r\n",
      "Charlie|Bess\r\n",
      "Tyler|Wren\r\n",
      "Gilbert|Sledge\r\n",
      "Gene|Sanborn\r\n",
      "Marc|Outlaw\r\n",
      "Reginald|Kinder\r\n",
      "Ruben|Geary\r\n",
      "Brett|Cornwell\r\n",
      "Angel|Barclay\r\n",
      "Nathaniel|Adam\r\n",
      "Rafael|Abney\r\n",
      "Leslie|Seward\r\n",
      "Edgar|Rhoads\r\n",
      "Milton|Howland\r\n",
      "Raul|Fortier\r\n",
      "Ben|Easter\r\n",
      "Chester|Benner\r\n",
      "Cecil|Vines\r\n",
      "Duane|Tubbs\r\n",
      "Franklin|Troutman\r\n",
      "Andre|Rapp\r\n",
      "Elmer|Noe\r\n",
      "Brad|Mccurdy\r\n",
      "Gabriel|Harder\r\n",
      "Ron|Deluca\r\n",
      "Mitchell|Westmoreland\r\n",
      "Roland|South\r\n",
      "Arnold|Havens\r\n",
      "Harvey|Guajardo\r\n",
      "Jared|Ely\r\n",
      "Adrian|Clary\r\n",
      "Karl|Seal\r\n",
      "Cory|Meehan\r\n",
      "Claude|Herzog\r\n",
      "Erik|Guillen\r\n",
      "Darryl|Ashcraft\r\n",
      "Jamie|Waugh\r\n",
      "Neil|Renner\r\n",
      "Jessie|Milam\r\n",
      "Christian|Jung\r\n",
      "Javier|Elrod\r\n",
      "Fernando|Churchill\r\n",
      "Clinton|Buford\r\n",
      "Ted|Breaux\r\n",
      "Mathew|Bolin\r\n",
      "Tyrone|Asher\r\n",
      "Darren|Windham\r\n",
      "Lonnie|Tirado\r\n",
      "Lance|Pemberton\r\n",
      "Cody|Nolen\r\n",
      "Julio|Noland\r\n",
      "Kelly|Knott\r\n",
      "Kurt|Emmons\r\n",
      "Allan|Cornish\r\n",
      "Nelson|Christenson\r\n",
      "Guy|Brownlee\r\n",
      "Clayton|Barbee\r\n",
      "Hugh|Waldrop\r\n",
      "Max|Pitt\r\n",
      "Dwayne|Olvera\r\n",
      "Dwight|Lombardi\r\n",
      "Armando|Gruber\r\n",
      "Felix|Gaffney\r\n",
      "Jimmie|Eggleston\r\n",
      "Everett|Banda\r\n",
      "Jordan|Archuleta\r\n",
      "Ian|Still\r\n",
      "Wallace|Slone\r\n",
      "Ken|Prewitt\r\n",
      "Bob|Pfeiffer\r\n",
      "Jaime|Nettles\r\n",
      "Casey|Mena\r\n",
      "Alfredo|Mcadams\r\n",
      "Alberto|Henning\r\n",
      "Dave|Gardiner\r\n",
      "Ivan|Cromwell\r\n",
      "Johnnie|Chisholm\r\n",
      "Sidney|Burleson\r\n",
      "Byron|Box\r\n",
      "Julian|Vest\r\n",
      "Isaac|Oglesby\r\n",
      "Morris|Mccarter\r\n",
      "Clifton|Malcolm\r\n",
      "Willard|Lumpkin\r\n",
      "Daryl|Larue\r\n",
      "Ross|Grey\r\n",
      "Virgil|Wofford\r\n",
      "Andy|Vanhorn\r\n",
      "Marshall|Thorn\r\n",
      "Salvador|Teel\r\n",
      "Perry|Swafford\r",
      "\r\n",
      "Kirk|Stclair\r\n",
      "Sergio|Stanfield\r\n",
      "Marion|Ocampo\r\n",
      "Tracy|Herrmann\r\n",
      "Seth|Hannon\r\n",
      "Kent|Arsenault\r\n",
      "Terrance|Roush\r\n",
      "Rene|Mcalister\r\n",
      "Eduardo|Hiatt\r\n",
      "Terrence|Gunderson\r\n",
      "Enrique|Forsythe\r\n",
      "Freddie|Duggan\r\n",
      "Wade|Delvalle\r\n",
      "Austin|Cintron\r\n"
     ]
    }
   ],
   "source": [
    "! sqlite3 sakila211.db \"select first_name, last_name from customer\""
   ]
  },
  {
   "cell_type": "markdown",
   "metadata": {},
   "source": [
    "(2) What are the e-mail addresses of customers whose first name is “Willard”?"
   ]
  },
  {
   "cell_type": "code",
   "execution_count": 10,
   "metadata": {
    "collapsed": false,
    "deletable": false,
    "nbgrader": {
     "checksum": "64e446ba985806fb04f9ef039fe65952",
     "grade": true,
     "grade_id": "query_2",
     "locked": false,
     "points": 2,
     "schema_version": 1,
     "solution": true
    }
   },
   "outputs": [
    {
     "name": "stdout",
     "output_type": "stream",
     "text": [
      "willard.lumpkin@sakilacustomer.org\r\n"
     ]
    }
   ],
   "source": [
    "! sqlite3 sakila211.db \"select email from customer where first_name = 'Willard'\""
   ]
  },
  {
   "cell_type": "markdown",
   "metadata": {},
   "source": [
    "(3) How many customers are there?"
   ]
  },
  {
   "cell_type": "code",
   "execution_count": 15,
   "metadata": {
    "collapsed": false,
    "deletable": false,
    "nbgrader": {
     "checksum": "6a4f0b6dde1ac7d790f97794e7783a42",
     "grade": true,
     "grade_id": "query_3",
     "locked": false,
     "points": 2,
     "schema_version": 1,
     "solution": true
    }
   },
   "outputs": [
    {
     "name": "stdout",
     "output_type": "stream",
     "text": [
      "599\r\n"
     ]
    }
   ],
   "source": [
    "! sqlite3 sakila211.db \"select count(*) from customer\"\n"
   ]
  },
  {
   "cell_type": "markdown",
   "metadata": {},
   "source": [
    "(4) How many customers shop at store number 1?"
   ]
  },
  {
   "cell_type": "code",
   "execution_count": 16,
   "metadata": {
    "collapsed": false,
    "deletable": false,
    "nbgrader": {
     "checksum": "f08fc7c6be8b740e600e483f045942fe",
     "grade": true,
     "grade_id": "query_4",
     "locked": false,
     "points": 2,
     "schema_version": 1,
     "solution": true
    }
   },
   "outputs": [
    {
     "name": "stdout",
     "output_type": "stream",
     "text": [
      "326\r\n"
     ]
    }
   ],
   "source": [
    "! sqlite3 sakila211.db \"select count(*) from customer where store_id = \"1\"\" "
   ]
  },
  {
   "cell_type": "markdown",
   "metadata": {},
   "source": [
    "(5) How much does it cost to rent the film named “Virtual Spoilers”?"
   ]
  },
  {
   "cell_type": "code",
   "execution_count": 22,
   "metadata": {
    "collapsed": false,
    "deletable": false,
    "nbgrader": {
     "checksum": "3d0a2eff95a0c91e3972df7cffcc5cde",
     "grade": true,
     "grade_id": "query_5",
     "locked": false,
     "points": 2,
     "schema_version": 1,
     "solution": true
    }
   },
   "outputs": [
    {
     "name": "stdout",
     "output_type": "stream",
     "text": [
      "4.99\r\n"
     ]
    }
   ],
   "source": [
    "! sqlite3 sakila211.db \"select rental_rate from film where title = 'Virtual Spoilers'\""
   ]
  },
  {
   "cell_type": "markdown",
   "metadata": {},
   "source": [
    "(6) Do any films have the word “Princess” in the title?"
   ]
  },
  {
   "cell_type": "code",
   "execution_count": 5,
   "metadata": {
    "collapsed": false,
    "deletable": false,
    "nbgrader": {
     "checksum": "32aac141a11a289bcdf659acc75988ca",
     "grade": true,
     "grade_id": "query_6",
     "locked": false,
     "points": 2,
     "schema_version": 1,
     "solution": true
    }
   },
   "outputs": [
    {
     "name": "stdout",
     "output_type": "stream",
     "text": [
      "Image Princess\r\n",
      "Princess Giant\r\n"
     ]
    }
   ],
   "source": [
    "! sqlite3 sakila211.db \"select title from film where title  like '%Princess%'\""
   ]
  },
  {
   "cell_type": "markdown",
   "metadata": {},
   "source": [
    "(7) What are the titles of the films that are longer than 180 minutes?"
   ]
  },
  {
   "cell_type": "code",
   "execution_count": 34,
   "metadata": {
    "collapsed": false,
    "deletable": false,
    "nbgrader": {
     "checksum": "a56541c60971ed0218521fde895de3af",
     "grade": true,
     "grade_id": "query_7",
     "locked": false,
     "points": 2,
     "schema_version": 1,
     "solution": true
    }
   },
   "outputs": [
    {
     "name": "stdout",
     "output_type": "stream",
     "text": [
      "Analyze Hoosiers\r\n",
      "Baked Cleopatra\r\n",
      "Catch Amistad\r\n",
      "Chicago North\r\n",
      "Conspiracy Spirit\r\n",
      "Control Anthem\r\n",
      "Crystal Breaking\r\n",
      "Darn Forrester\r\n",
      "Frontier Cabin\r\n",
      "Gangs Pride\r\n",
      "Haunting Pianist\r\n",
      "Home Pity\r\n",
      "Hotel Happiness\r\n",
      "Intrigue Worst\r\n",
      "Jacket Frisco\r\n",
      "King Evolution\r\n",
      "Lawless Vision\r\n",
      "Love Suicides\r\n",
      "Monsoon Cause\r\n",
      "Moonwalker Fool\r\n",
      "Muscle Bright\r\n",
      "Pond Seattle\r\n",
      "Records Zorro\r\n",
      "Reds Pocus\r\n",
      "Runaway Tenenbaums\r\n",
      "Saturn Name\r\n",
      "Scalawag Duck\r\n",
      "Searchers Wait\r\n",
      "Smoochy Control\r\n",
      "Soldiers Evolution\r\n",
      "Sons Interview\r\n",
      "Sorority Queen\r\n",
      "Star Operation\r\n",
      "Sweet Brotherhood\r\n",
      "Theory Mermaid\r\n",
      "Wife Turn\r\n",
      "Wild Apollo\r\n",
      "Worst Banger\r\n",
      "Young Language\r\n"
     ]
    }
   ],
   "source": [
    "! sqlite3 sakila211.db \"select title from film where length > 180\""
   ]
  },
  {
   "cell_type": "markdown",
   "metadata": {},
   "source": [
    "(8) How many films have a “G” rating and are less than 60 minutes long?"
   ]
  },
  {
   "cell_type": "code",
   "execution_count": 36,
   "metadata": {
    "collapsed": false,
    "deletable": false,
    "nbgrader": {
     "checksum": "3f60984cef7bc7cea4eebc63abbb9111",
     "grade": true,
     "grade_id": "query_8",
     "locked": false,
     "points": 2,
     "schema_version": 1,
     "solution": true
    }
   },
   "outputs": [
    {
     "name": "stdout",
     "output_type": "stream",
     "text": [
      "156\r\n"
     ]
    }
   ],
   "source": [
    "! sqlite3 sakila211.db \"select count(*) from film where rating = 'G' and length > 60\""
   ]
  },
  {
   "cell_type": "markdown",
   "metadata": {},
   "source": [
    "(9) What is the maximum replacement cost for any film?"
   ]
  },
  {
   "cell_type": "code",
   "execution_count": 37,
   "metadata": {
    "collapsed": false,
    "deletable": false,
    "nbgrader": {
     "checksum": "4e978c554314837f99ada46bba4506cc",
     "grade": true,
     "grade_id": "query_9",
     "locked": false,
     "points": 2,
     "schema_version": 1,
     "solution": true
    }
   },
   "outputs": [
    {
     "name": "stdout",
     "output_type": "stream",
     "text": [
      "29.99\r\n"
     ]
    }
   ],
   "source": [
    "! sqlite3 sakila211.db \"select max(replacement_cost) from film\""
   ]
  },
  {
   "cell_type": "markdown",
   "metadata": {},
   "source": [
    "(10) Print a table that lists the different types of ratings and the number of films that have that rating."
   ]
  },
  {
   "cell_type": "code",
   "execution_count": 75,
   "metadata": {
    "collapsed": false,
    "deletable": false,
    "nbgrader": {
     "checksum": "8e1de89901999890be844e2915eb5ef4",
     "grade": true,
     "grade_id": "query_10",
     "locked": false,
     "points": 2,
     "schema_version": 1,
     "solution": true
    }
   },
   "outputs": [
    {
     "name": "stdout",
     "output_type": "stream",
     "text": [
      "G|178\r\n",
      "NC-17|210\r\n",
      "PG|194\r\n",
      "PG-13|223\r\n",
      "R|195\r\n"
     ]
    }
   ],
   "source": [
    "! sqlite3 sakila211.db \"SELECT rating, count(*) FROM film GROUP BY rating\""
   ]
  },
  {
   "cell_type": "markdown",
   "metadata": {},
   "source": [
    "## <span style=\"color:teal\">Part 2: &nbsp; Joins</span>"
   ]
  },
  {
   "cell_type": "markdown",
   "metadata": {},
   "source": [
    "The following queries all require a join of two or more tables. As a hint for how to create the query the table names are shown next to each a question."
   ]
  },
  {
   "cell_type": "markdown",
   "metadata": {},
   "source": [
    "(11) What are the film IDs of movies starring Jude Cruise?  &nbsp; &nbsp; [`actor`, `film_actor`]"
   ]
  },
  {
   "cell_type": "code",
   "execution_count": 7,
   "metadata": {
    "collapsed": false,
    "deletable": false,
    "nbgrader": {
     "checksum": "c626f13f16b011b334890f13ccf48a7b",
     "grade": true,
     "grade_id": "query_11",
     "locked": false,
     "points": 3,
     "schema_version": 1,
     "solution": true
    }
   },
   "outputs": [
    {
     "name": "stdout",
     "output_type": "stream",
     "text": [
      "16\r\n",
      "34\r\n",
      "101\r\n",
      "114\r\n",
      "122\r\n",
      "134\r\n",
      "144\r\n",
      "153\r\n",
      "192\r\n",
      "213\r\n",
      "258\r\n",
      "267\r\n",
      "317\r\n",
      "340\r\n",
      "393\r\n",
      "437\r\n",
      "447\r\n",
      "502\r\n",
      "592\r\n",
      "605\r\n",
      "637\r\n",
      "685\r\n",
      "707\r\n",
      "714\r\n",
      "717\r\n",
      "737\r\n",
      "767\r\n",
      "852\r\n",
      "891\r\n",
      "918\r\n"
     ]
    }
   ],
   "source": [
    "! sqlite3 sakila211.db \"SELECT film_id FROM actor JOIN film_actor using (actor_id) where first_name like '%Jude%' and last_name like '%Cruise%'\" "
   ]
  },
  {
   "cell_type": "markdown",
   "metadata": {},
   "source": [
    "(12) What language was “Ace Goldfinger” filmed in?  &nbsp; &nbsp; [`film`, `language`]"
   ]
  },
  {
   "cell_type": "code",
   "execution_count": 6,
   "metadata": {
    "collapsed": false,
    "deletable": false,
    "nbgrader": {
     "checksum": "5c2b9575dc400f86b959c7ff874df154",
     "grade": true,
     "grade_id": "query_12",
     "locked": false,
     "points": 3,
     "schema_version": 1,
     "solution": true
    }
   },
   "outputs": [
    {
     "name": "stdout",
     "output_type": "stream",
     "text": [
      "3|Japanese\r\n"
     ]
    }
   ],
   "source": [
    "! sqlite3 sakila211.db 'select language_id, name from language join film using (language_id) where title = \"Ace Goldfinger\"'"
   ]
  },
  {
   "cell_type": "markdown",
   "metadata": {},
   "source": [
    "(13) How many actors starred in the film named “Scalawag Duck”? &nbsp; &nbsp; [`film`, `film_actor`]"
   ]
  },
  {
   "cell_type": "code",
   "execution_count": 9,
   "metadata": {
    "collapsed": false,
    "deletable": false,
    "nbgrader": {
     "checksum": "7b8cb4dc76c252a465be7f30a878a2fd",
     "grade": true,
     "grade_id": "query_13",
     "locked": false,
     "points": 4,
     "schema_version": 1,
     "solution": true
    }
   },
   "outputs": [
    {
     "name": "stdout",
     "output_type": "stream",
     "text": [
      "5\r\n"
     ]
    }
   ],
   "source": [
    "! sqlite3 sakila211.db \"select count(actor_id) from film_actor join film using (film_id) where title = 'Scalawag Duck'\""
   ]
  },
  {
   "cell_type": "markdown",
   "metadata": {},
   "source": [
    "(14) Produce a table that shows how many films each customer has rented.  &nbsp; &nbsp; [`customer`, `rental`]"
   ]
  },
  {
   "cell_type": "code",
   "execution_count": 48,
   "metadata": {
    "collapsed": false,
    "deletable": false,
    "nbgrader": {
     "checksum": "c602f9d9d2cb856929f4389375be8b02",
     "grade": true,
     "grade_id": "query_14",
     "locked": false,
     "points": 4,
     "schema_version": 1,
     "solution": true
    }
   },
   "outputs": [
    {
     "name": "stdout",
     "output_type": "stream",
     "text": [
      "1|32\r\n",
      "2|27\r\n",
      "3|26\r\n",
      "4|22\r\n",
      "5|37\r\n",
      "6|28\r\n",
      "7|33\r\n",
      "8|24\r\n",
      "9|22\r\n",
      "10|25\r\n",
      "11|23\r\n",
      "12|28\r\n",
      "13|27\r\n",
      "14|27\r\n",
      "15|30\r\n",
      "16|28\r\n",
      "17|21\r\n",
      "18|22\r\n",
      "19|24\r\n",
      "20|30\r\n",
      "21|34\r\n",
      "22|21\r\n",
      "23|29\r\n",
      "24|25\r\n",
      "25|29\r\n",
      "26|34\r\n",
      "27|31\r\n",
      "28|31\r\n",
      "29|35\r\n",
      "30|34\r\n",
      "31|26\r\n",
      "32|29\r\n",
      "33|20\r\n",
      "34|24\r\n",
      "35|32\r\n",
      "36|27\r\n",
      "37|23\r\n",
      "38|34\r\n",
      "39|29\r\n",
      "40|27\r\n",
      "41|24\r\n",
      "42|28\r\n",
      "43|22\r\n",
      "44|25\r\n",
      "45|27\r\n",
      "46|34\r\n",
      "47|22\r\n",
      "48|17\r\n",
      "49|28\r\n",
      "50|35\r\n",
      "51|33\r\n",
      "52|28\r\n",
      "53|28\r\n",
      "54|29\r\n",
      "55|22\r\n",
      "56|29\r\n",
      "57|28\r\n",
      "58|26\r\n",
      "59|27\r\n",
      "60|23\r\n",
      "61|14\r\n",
      "62|23\r\n",
      "63|25\r\n",
      "64|32\r\n",
      "65|22\r\n",
      "66|34\r\n",
      "67|22\r\n",
      "68|22\r\n",
      "69|24\r\n",
      "70|18\r\n",
      "71|30\r\n",
      "72|30\r\n",
      "73|23\r\n",
      "74|27\r\n",
      "75|38\r\n",
      "76|23\r\n",
      "77|28\r\n",
      "78|31\r\n",
      "79|22\r\n",
      "80|29\r\n",
      "81|22\r\n",
      "82|26\r\n",
      "83|24\r\n",
      "84|33\r\n",
      "85|23\r\n",
      "86|33\r\n",
      "87|29\r\n",
      "88|21\r\n",
      "89|32\r\n",
      "90|28\r\n",
      "91|34\r\n",
      "92|28\r\n",
      "93|23\r\n",
      "94|20\r\n",
      "95|18\r\n",
      "96|27\r\n",
      "97|18\r\n",
      "98|25\r\n",
      "99|23\r\n",
      "100|23\r\n",
      "101|23\r\n",
      "102|33\r\n",
      "103|31\r\n",
      "104|24\r\n",
      "105|26\r\n",
      "106|23\r\n",
      "107|28\r\n",
      "108|29\r\n",
      "109|26\r\n",
      "110|14\r\n",
      "111|25\r\n",
      "112|30\r\n",
      "113|29\r\n",
      "114|32\r\n",
      "115|29\r\n",
      "116|27\r\n",
      "117|19\r\n",
      "118|21\r\n",
      "119|34\r\n",
      "120|31\r\n",
      "121|26\r\n",
      "122|32\r\n",
      "123|24\r\n",
      "124|18\r\n",
      "125|32\r\n",
      "126|28\r\n",
      "127|24\r\n",
      "128|32\r\n",
      "129|34\r\n",
      "130|24\r\n",
      "131|30\r\n",
      "132|28\r\n",
      "133|27\r\n",
      "134|23\r\n",
      "135|29\r\n",
      "136|15\r\n",
      "137|39\r\n",
      "138|34\r\n",
      "139|27\r\n",
      "140|18\r\n",
      "141|32\r\n",
      "142|25\r\n",
      "143|22\r\n",
      "144|42\r\n",
      "145|28\r\n",
      "146|29\r\n",
      "147|34\r\n",
      "148|46\r\n",
      "149|26\r\n",
      "150|25\r\n",
      "151|27\r\n",
      "152|20\r\n",
      "153|24\r\n",
      "154|30\r\n",
      "155|23\r\n",
      "156|25\r\n",
      "157|31\r\n",
      "158|32\r\n",
      "159|21\r\n",
      "160|27\r\n",
      "161|30\r\n",
      "162|19\r\n",
      "163|27\r\n",
      "164|16\r\n",
      "165|21\r\n",
      "166|28\r\n",
      "167|32\r\n",
      "168|33\r\n",
      "169|22\r\n",
      "170|26\r\n",
      "171|26\r\n",
      "172|33\r\n",
      "173|29\r\n",
      "174|21\r\n",
      "175|22\r\n",
      "176|37\r\n",
      "177|23\r\n",
      "178|38\r\n",
      "179|29\r\n",
      "180|22\r\n",
      "181|33\r\n",
      "182|26\r\n",
      "183|23\r\n",
      "184|23\r\n",
      "185|23\r\n",
      "186|30\r\n",
      "187|28\r\n",
      "188|24\r\n",
      "189|22\r\n",
      "190|26\r\n",
      "191|19\r\n",
      "192|22\r\n",
      "193|24\r\n",
      "194|18\r\n",
      "195|19\r\n",
      "196|35\r\n",
      "197|40\r\n",
      "198|37\r\n",
      "199|24\r\n",
      "200|26\r\n",
      "201|25\r\n",
      "202|26\r\n",
      "203|20\r\n",
      "204|35\r\n",
      "205|18\r\n",
      "206|27\r\n",
      "207|34\r\n",
      "208|24\r\n",
      "209|32\r\n",
      "210|31\r\n",
      "211|33\r\n",
      "212|20\r\n",
      "213|27\r\n",
      "214|30\r\n",
      "215|25\r\n",
      "216|21\r\n",
      "217|23\r\n",
      "218|18\r\n",
      "219|25\r\n",
      "220|27\r\n",
      "221|28\r\n",
      "222|21\r\n",
      "223|17\r\n",
      "224|22\r\n",
      "225|26\r\n",
      "226|21\r\n",
      "227|23\r\n",
      "228|25\r\n",
      "229|24\r\n",
      "230|33\r\n",
      "231|26\r\n",
      "232|25\r\n",
      "233|23\r\n",
      "234|25\r\n",
      "235|25\r\n",
      "236|41\r\n",
      "237|33\r\n",
      "238|21\r\n",
      "239|34\r\n",
      "240|26\r\n",
      "241|34\r\n",
      "242|32\r\n",
      "243|24\r\n",
      "244|31\r\n",
      "245|31\r\n",
      "246|23\r\n",
      "247|22\r\n",
      "248|15\r\n",
      "249|23\r\n",
      "250|20\r\n",
      "251|30\r\n",
      "252|21\r\n",
      "253|29\r\n",
      "254|32\r\n",
      "255|18\r\n",
      "256|30\r\n",
      "257|37\r\n",
      "258|24\r\n",
      "259|32\r\n",
      "260|31\r\n",
      "261|26\r\n",
      "262|28\r\n",
      "263|28\r\n",
      "264|24\r\n",
      "265|29\r\n",
      "266|28\r\n",
      "267|34\r\n",
      "268|29\r\n",
      "269|28\r\n",
      "270|25\r\n",
      "271|18\r\n",
      "272|20\r\n",
      "273|35\r\n",
      "274|34\r\n",
      "275|30\r\n",
      "276|28\r\n",
      "277|32\r\n",
      "278|26\r\n",
      "279|30\r\n",
      "280|27\r\n",
      "281|14\r\n",
      "282|26\r\n",
      "283|28\r\n",
      "284|26\r\n",
      "285|26\r\n",
      "286|27\r\n",
      "287|28\r\n",
      "288|24\r\n",
      "289|30\r\n",
      "290|28\r\n",
      "291|23\r\n",
      "292|27\r\n",
      "293|31\r\n",
      "294|26\r\n",
      "295|37\r\n",
      "296|29\r\n",
      "297|33\r\n",
      "298|26\r\n",
      "299|30\r\n",
      "300|30\r\n",
      "301|21\r\n",
      "302|29\r\n",
      "303|26\r\n",
      "304|26\r\n",
      "305|25\r\n",
      "306|32\r\n",
      "307|30\r\n",
      "308|25\r\n",
      "309|31\r\n",
      "310|20\r\n",
      "311|23\r\n",
      "312|26\r\n",
      "313|23\r\n",
      "314|33\r\n",
      "315|16\r\n",
      "316|29\r\n",
      "317|27\r\n",
      "318|12\r\n",
      "319|30\r\n",
      "320|20\r\n",
      "321|22\r\n",
      "322|28\r\n",
      "323|31\r\n",
      "324|24\r\n",
      "325|22\r\n",
      "326|25\r\n",
      "327|25\r\n",
      "328|23\r\n",
      "329|32\r\n",
      "330|24\r\n",
      "331|27\r\n",
      "332|28\r\n",
      "333|27\r\n",
      "334|29\r\n",
      "335|22\r\n",
      "336|29\r\n",
      "337|28\r\n",
      "338|28\r\n",
      "339|30\r\n",
      "340|31\r\n",
      "341|23\r\n",
      "342|32\r\n",
      "343|25\r\n",
      "344|18\r\n",
      "345|23\r\n",
      "346|32\r\n",
      "347|30\r\n",
      "348|36\r\n",
      "349|28\r\n",
      "350|23\r\n",
      "351|24\r\n",
      "352|22\r\n",
      "353|18\r\n",
      "354|34\r\n",
      "355|19\r\n",
      "356|30\r\n",
      "357|26\r\n",
      "358|21\r\n",
      "359|24\r\n",
      "360|34\r\n",
      "361|29\r\n",
      "362|32\r\n",
      "363|29\r\n",
      "364|23\r\n",
      "365|23\r\n",
      "366|36\r\n",
      "367|22\r\n",
      "368|35\r\n",
      "369|24\r\n",
      "370|19\r\n",
      "371|35\r\n",
      "372|34\r\n",
      "373|34\r\n",
      "374|27\r\n",
      "375|24\r\n",
      "376|28\r\n",
      "377|26\r\n",
      "378|19\r\n",
      "379|23\r\n",
      "380|36\r\n",
      "381|35\r\n",
      "382|24\r\n",
      "383|27\r\n",
      "384|25\r\n",
      "385|26\r\n",
      "386|29\r\n",
      "387|26\r\n",
      "388|29\r\n",
      "389|26\r\n",
      "390|33\r\n",
      "391|30\r\n",
      "392|23\r\n",
      "393|31\r\n",
      "394|21\r\n",
      "395|19\r\n",
      "396|27\r\n",
      "397|29\r\n",
      "398|16\r\n",
      "399|21\r\n",
      "400|28\r\n",
      "401|21\r\n",
      "402|20\r\n",
      "403|35\r\n",
      "404|30\r\n",
      "405|31\r\n",
      "406|32\r\n",
      "407|27\r\n",
      "408|30\r\n",
      "409|23\r\n",
      "410|37\r\n",
      "411|25\r\n",
      "412|20\r\n",
      "413|21\r\n",
      "414|25\r\n",
      "415|23\r\n",
      "416|31\r\n",
      "417|24\r\n",
      "418|30\r\n",
      "419|25\r\n",
      "420|21\r\n",
      "421|26\r\n",
      "422|25\r\n",
      "423|26\r\n",
      "424|29\r\n",
      "425|26\r\n",
      "426|27\r\n",
      "427|24\r\n",
      "428|20\r\n",
      "429|21\r\n",
      "430|22\r\n",
      "431|22\r\n",
      "432|23\r\n",
      "433|25\r\n",
      "434|27\r\n",
      "435|25\r\n",
      "436|30\r\n",
      "437|23\r\n",
      "438|32\r\n",
      "439|36\r\n",
      "440|21\r\n",
      "441|27\r\n",
      "442|32\r\n",
      "443|22\r\n",
      "444|30\r\n",
      "445|26\r\n",
      "446|31\r\n",
      "447|29\r\n",
      "448|27\r\n",
      "449|20\r\n",
      "450|25\r\n",
      "451|33\r\n",
      "452|31\r\n",
      "453|23\r\n",
      "454|33\r\n",
      "455|24\r\n",
      "456|25\r\n",
      "457|26\r\n",
      "458|19\r\n",
      "459|38\r\n",
      "460|25\r\n",
      "461|28\r\n",
      "462|33\r\n",
      "463|25\r\n",
      "464|16\r\n",
      "465|17\r\n",
      "466|23\r\n",
      "467|29\r\n",
      "468|39\r\n",
      "469|40\r\n",
      "470|32\r\n",
      "471|27\r\n",
      "472|29\r\n",
      "473|34\r\n",
      "474|25\r\n",
      "475|24\r\n",
      "476|21\r\n",
      "477|22\r\n",
      "478|19\r\n",
      "479|30\r\n",
      "480|22\r\n",
      "481|29\r\n",
      "482|29\r\n",
      "483|18\r\n",
      "484|30\r\n",
      "485|29\r\n",
      "486|26\r\n",
      "487|26\r\n",
      "488|22\r\n",
      "489|21\r\n",
      "490|24\r\n",
      "491|27\r\n",
      "492|16\r\n",
      "493|22\r\n",
      "494|31\r\n",
      "495|25\r\n",
      "496|20\r\n",
      "497|27\r\n",
      "498|27\r\n",
      "499|30\r\n",
      "500|28\r\n",
      "501|21\r\n",
      "502|34\r\n",
      "503|32\r\n",
      "504|28\r\n",
      "505|20\r\n",
      "506|35\r\n",
      "507|25\r\n",
      "508|24\r\n",
      "509|20\r\n",
      "510|26\r\n",
      "511|24\r\n",
      "512|25\r\n",
      "513|31\r\n",
      "514|22\r\n",
      "515|28\r\n",
      "516|24\r\n",
      "517|25\r\n",
      "518|26\r\n",
      "519|23\r\n",
      "520|32\r\n",
      "521|22\r\n",
      "522|33\r\n",
      "523|22\r\n",
      "524|19\r\n",
      "525|18\r\n",
      "526|45\r\n",
      "527|23\r\n",
      "528|25\r\n",
      "529|29\r\n",
      "530|22\r\n",
      "531|25\r\n",
      "532|31\r\n",
      "533|32\r\n",
      "534|23\r\n",
      "535|32\r\n",
      "536|25\r\n",
      "537|24\r\n",
      "538|29\r\n",
      "539|22\r\n",
      "540|24\r\n",
      "541|24\r\n",
      "542|18\r\n",
      "543|22\r\n",
      "544|22\r\n",
      "545|21\r\n",
      "546|25\r\n",
      "547|23\r\n",
      "548|18\r\n",
      "549|20\r\n",
      "550|31\r\n",
      "551|26\r\n",
      "552|21\r\n",
      "553|24\r\n",
      "554|21\r\n",
      "555|17\r\n",
      "556|21\r\n",
      "557|23\r\n",
      "558|28\r\n",
      "559|28\r\n",
      "560|28\r\n",
      "561|26\r\n",
      "562|25\r\n",
      "563|29\r\n",
      "564|24\r\n",
      "565|29\r\n",
      "566|34\r\n",
      "567|20\r\n",
      "568|20\r\n",
      "569|32\r\n",
      "570|25\r\n",
      "571|24\r\n",
      "572|25\r\n",
      "573|29\r\n",
      "574|28\r\n",
      "575|29\r\n",
      "576|32\r\n",
      "577|27\r\n",
      "578|22\r\n",
      "579|26\r\n",
      "580|27\r\n",
      "581|27\r\n",
      "582|24\r\n",
      "583|23\r\n",
      "584|30\r\n",
      "585|23\r\n",
      "586|19\r\n",
      "587|25\r\n",
      "588|29\r\n",
      "589|28\r\n",
      "590|24\r\n",
      "591|27\r\n",
      "592|28\r\n",
      "593|26\r\n",
      "594|27\r\n",
      "595|30\r\n",
      "596|27\r\n",
      "597|24\r\n",
      "598|22\r\n",
      "599|19\r\n"
     ]
    }
   ],
   "source": [
    "! sqlite3 sakila211.db \"select customer_id, count(*) from customer join rental using (customer_id) group by customer_id\""
   ]
  },
  {
   "cell_type": "markdown",
   "metadata": {},
   "source": [
    "(15) How many films did the customer named Smith rent?  &nbsp; &nbsp; [`customer`, `rental`]"
   ]
  },
  {
   "cell_type": "code",
   "execution_count": 49,
   "metadata": {
    "collapsed": false,
    "deletable": false,
    "nbgrader": {
     "checksum": "d5ddc9c23280c6c3d4b8355f165967a1",
     "grade": true,
     "grade_id": "query_15",
     "locked": false,
     "points": 4,
     "schema_version": 1,
     "solution": true
    }
   },
   "outputs": [
    {
     "name": "stdout",
     "output_type": "stream",
     "text": [
      "32\r\n"
     ]
    }
   ],
   "source": [
    "! sqlite3 sakila211.db \"select count(*) from customer join rental using(customer_id) where last_name = 'Smith'\""
   ]
  },
  {
   "cell_type": "markdown",
   "metadata": {},
   "source": [
    "(16) Which actors starred in “Splash Gump”?  &nbsp; &nbsp; [`film`, `film_actor`, `actor`]"
   ]
  },
  {
   "cell_type": "code",
   "execution_count": 50,
   "metadata": {
    "collapsed": false,
    "deletable": false,
    "nbgrader": {
     "checksum": "62934f2def9ff51a7b7eb88292c4c069",
     "grade": true,
     "grade_id": "query_17",
     "locked": false,
     "points": 4,
     "schema_version": 1,
     "solution": true
    }
   },
   "outputs": [
    {
     "name": "stdout",
     "output_type": "stream",
     "text": [
      "Penelope|Guiness\n",
      "Jennifer|Davis\n",
      "Uma|Wood\n",
      "Cameron|Streep\n",
      "Christian|Neeson\n",
      "Ray|Johansson\n",
      "Gene|Willis\n",
      "Morgan|Williams\n",
      "Humphrey|Willis\n",
      "Al|Garland\n"
     ]
    }
   ],
   "source": [
    "! sqlite3 sakila211.db \"select first_name, last_name from actor join film_actor using(actor_id) join film using (film_id) where title = 'Splash Gump'\""
   ]
  },
  {
   "cell_type": "markdown",
   "metadata": {},
   "source": [
    "(17) Which films has Penelope Guiness starred in?  &nbsp; &nbsp; [`film`, `film_actor`, `actor`]"
   ]
  },
  {
   "cell_type": "code",
   "execution_count": 46,
   "metadata": {
    "collapsed": false,
    "deletable": false,
    "nbgrader": {
     "checksum": "d811e1e64a3a28da4103f0adb698f866",
     "grade": true,
     "grade_id": "query_18",
     "locked": false,
     "points": 4,
     "schema_version": 1,
     "solution": true
    }
   },
   "outputs": [
    {
     "name": "stdout",
     "output_type": "stream",
     "text": [
      "Academy Dinosaur\r\n",
      "Anaconda Confessions\r\n",
      "Angels Life\r\n",
      "Bulworth Commandments\r\n",
      "Cheaper Clyde\r\n",
      "Color Philadelphia\r\n",
      "Elephant Trojan\r\n",
      "Gleaming Jawbreaker\r\n",
      "Human Graffiti\r\n",
      "King Evolution\r\n",
      "Lady Stage\r\n",
      "Language Cowboy\r\n",
      "Mulholland Beast\r\n",
      "Oklahoma Jumanji\r\n",
      "Rules Human\r\n",
      "Splash Gump\r\n",
      "Vertigo Northwest\r\n",
      "Westward Seabiscuit\r\n",
      "Wizard Coldblooded\r\n"
     ]
    }
   ],
   "source": [
    "! sqlite3 sakila211.db \"select title from film join film_actor using(film_id) join actor using(actor_id) where first_name = 'Penelope' and last_name = 'Guiness'\""
   ]
  },
  {
   "cell_type": "markdown",
   "metadata": {},
   "source": [
    "(18) What are the names of the films rented by the customer named Knight?  &nbsp; &nbsp; [`customer`, `rental`, `inventory`, `film`]"
   ]
  },
  {
   "cell_type": "code",
   "execution_count": 47,
   "metadata": {
    "collapsed": false,
    "deletable": false,
    "nbgrader": {
     "checksum": "66ea5f83cfdb46127212f07cc8dfa1aa",
     "grade": true,
     "grade_id": "query_19",
     "locked": false,
     "points": 4,
     "schema_version": 1,
     "solution": true
    }
   },
   "outputs": [
    {
     "name": "stdout",
     "output_type": "stream",
     "text": [
      "Jericho Mulan\n",
      "Frost Head\n",
      "Clerks Angels\n",
      "Wife Turn\n",
      "Expecations Natural\n",
      "Lawless Vision\n",
      "Soup Wisdom\n",
      "Heartbreakers Bright\n",
      "Bikini Borrowers\n",
      "Attacks Hate\n",
      "Cupboard Sinners\n",
      "Princess Giant\n",
      "Cyclone Family\n",
      "Platoon Instinct\n",
      "Knock Warlock\n",
      "Excitement Eve\n",
      "Right Cranes\n",
      "Fatal Haunted\n",
      "Falcon Volume\n",
      "Tomorrow Hustler\n",
      "Half Outfield\n",
      "Horror Reign\n",
      "Borrowers Bedazzled\n"
     ]
    }
   ],
   "source": [
    "! sqlite3 sakila211.db 'select title from film join inventory using (film_id) join rental using(inventory_id) join customer using(customer_id) where last_name LIKE \"%knight%\"'"
   ]
  },
  {
   "cell_type": "markdown",
   "metadata": {},
   "source": [
    "## <span style=\"color:teal\">Part 3: &nbsp; Monthly Report</span>"
   ]
  },
  {
   "cell_type": "markdown",
   "metadata": {},
   "source": [
    "For this part of the project you will write a report generator that will print a summary of monthly activity for a customer.  The report should show a list of all the films rented during the month along with a total amount due.\n",
    "This example shows the activity for the customer named Leo Ebert for the month of June, 2005.\n",
    "\n",
    "<pre>\n",
    "--- Sakila DVD Rentals ---\n",
    "\n",
    "Monthly Report for Leo Ebert \n",
    "\n",
    "Lonely Elephant                 06/16/2005    $2.99\n",
    "                   ** late fee  06/24/2005    $2.99\n",
    "Enemy Odds                      06/18/2005    $4.99\n",
    "                   ** late fee  06/27/2005    $4.99\n",
    "Song Hedwig                     06/20/2005    $0.99\n",
    "                   ** late fee  06/26/2005    $0.99\n",
    "Wash Heavenly                   06/21/2005    $4.99\n",
    "Hurricane Affair                06/21/2005    $2.99\n",
    "\n",
    "Monthly Total:  $25.92\n",
    "</pre>\n",
    "\n",
    "To compute the total, the report generator needs to add up all the rental fees, and for any film returned late, add an additional rental fee as the late charge. In the example, Leo rented *Lonely Elephant* on June 16 but didn’t return it until June 24. It was a 3-day rental, so he was charged an additional \\$2.99 (it was 5 days late, so we could have charged him \\$4.98 in late fees, but we’ll keep it simple and just charge the basic fee as the late fee).\n",
    "\n",
    "We've broken the problem into separate parts so they can be implemented and tested separately.  Your job is to fill in the code cells so each part passes the auto-grader tests.\n",
    "\n",
    "**Note:** &nbsp; There is no documentation requirement for this project."
   ]
  },
  {
   "cell_type": "markdown",
   "metadata": {},
   "source": [
    "### <span style=\"color:teal\">Database Connection</span>"
   ]
  },
  {
   "cell_type": "markdown",
   "metadata": {},
   "source": [
    "To simplify the code for this program you can define the database connection as a global variable.  The following code cell imports the libraries you need and defines the database connection."
   ]
  },
  {
   "cell_type": "code",
   "execution_count": 51,
   "metadata": {
    "collapsed": true
   },
   "outputs": [],
   "source": [
    "from sqlite3 import connect\n",
    "\n",
    "db = connect('sakila211.db')"
   ]
  },
  {
   "cell_type": "markdown",
   "metadata": {},
   "source": [
    "### <span style=\"color:teal\">Dates</span>"
   ]
  },
  {
   "cell_type": "markdown",
   "metadata": {},
   "source": [
    "Dates in a SQLite database are stored as strings.  The function below uses a Python library named `datetime` to parse a date string and return a string that can be printed as part of the report.  Read the online documentation for the `datetime` module if you want to learn more about date formats and functions that parse and format dates.\n",
    "\n",
    "**Note:** &nbsp; The format string is a global variable -- you can use this same format in your function that checks to see if a CD is overdue."
   ]
  },
  {
   "cell_type": "code",
   "execution_count": 52,
   "metadata": {
    "collapsed": true
   },
   "outputs": [],
   "source": [
    "from datetime import datetime\n",
    "\n",
    "date_format = \"%Y-%m-%d %H:%M:%S.%f\"\n",
    "\n",
    "def mmddyyyy(date):\n",
    "    d = datetime.strptime(date, date_format)\n",
    "    return '{:02d}/{:02d}/{:02d}'.format(d.month, d.day, d.year)"
   ]
  },
  {
   "cell_type": "code",
   "execution_count": 53,
   "metadata": {
    "collapsed": true
   },
   "outputs": [],
   "source": [
    "assert mmddyyyy('2005-02-26 20:59:35.000') == '02/26/2005'"
   ]
  },
  {
   "cell_type": "markdown",
   "metadata": {},
   "source": [
    "### <span style=\"color:teal\">Customer Name</span>"
   ]
  },
  {
   "cell_type": "markdown",
   "metadata": {},
   "source": [
    "Fill in the definition of the `customer_name` function.  It will be passed a string with a last name, and it should return a list of tuples of the form `(first, last)` with the first and last names of all customers with the same last name.  If there are no customers with that name the list should be empty."
   ]
  },
  {
   "cell_type": "code",
   "execution_count": 54,
   "metadata": {
    "collapsed": true,
    "deletable": false,
    "nbgrader": {
     "checksum": "e70c884e18f10012edb52e87d2719697",
     "grade": true,
     "grade_id": "customer_name",
     "locked": false,
     "points": 4,
     "schema_version": 1,
     "solution": true
    }
   },
   "outputs": [],
   "source": [
    "def customer_names(s):\n",
    "    '''\n",
    "    (str) --> list(str,str)\n",
    "    \n",
    "    This function is going to accept a string that will return a list that will return a string of the customers name.\n",
    "    '''\n",
    "    s = s.capitalize()\n",
    "    name = db.execute (\"select first_name, last_name from customer where last_name = '{}'\".format(s))\n",
    "    name = list(name)\n",
    "    return name"
   ]
  },
  {
   "cell_type": "markdown",
   "metadata": {},
   "source": [
    "##### <span style=\"color:red\">Autograder Tests:</span>"
   ]
  },
  {
   "cell_type": "markdown",
   "metadata": {},
   "source": [
    "**Do not edit, copy, or delete these cells.**"
   ]
  },
  {
   "cell_type": "code",
   "execution_count": 55,
   "metadata": {
    "collapsed": true,
    "deletable": false,
    "editable": false,
    "nbgrader": {
     "checksum": "a058825c6ac9ee1512975bf08b53f5e2",
     "grade": true,
     "grade_id": "cname_1",
     "locked": true,
     "points": 2,
     "schema_version": 1,
     "solution": false
    }
   },
   "outputs": [],
   "source": [
    "assert customer_names('ebert') == [('Leo', 'Ebert')]"
   ]
  },
  {
   "cell_type": "code",
   "execution_count": 56,
   "metadata": {
    "collapsed": true,
    "deletable": false,
    "editable": false,
    "nbgrader": {
     "checksum": "8368cbc5b9882ede9ad70397eec55502",
     "grade": true,
     "grade_id": "cname_2",
     "locked": true,
     "points": 2,
     "schema_version": 1,
     "solution": false
    }
   },
   "outputs": [],
   "source": [
    "assert customer_names('smith') == [('Mary', 'Smith')]"
   ]
  },
  {
   "cell_type": "code",
   "execution_count": 57,
   "metadata": {
    "collapsed": true,
    "deletable": false,
    "editable": false,
    "nbgrader": {
     "checksum": "898903e3d3e5b92bea1199d595596f78",
     "grade": true,
     "grade_id": "cname_3",
     "locked": true,
     "points": 2,
     "schema_version": 1,
     "solution": false
    }
   },
   "outputs": [],
   "source": [
    "assert customer_names('turing') == []"
   ]
  },
  {
   "cell_type": "markdown",
   "metadata": {},
   "source": [
    "### <span style=\"color:teal\">Film List</span>"
   ]
  },
  {
   "cell_type": "markdown",
   "metadata": {},
   "source": [
    "Fill in the body of the `film_list` function so it returns a list of all CDs rented by a customer during a specified month. \n",
    "The parameters that will be passed to the function are the customer's last name (a string) and the month and year (both integers).  Return a list of tuples that have the following values, in the order shown:\n",
    "* film title\n",
    "* rental rate (how much it costs to rent the CD)\n",
    "* rental date (the date the CD was rented)\n",
    "* return date (the date the CD was returned)\n",
    "* rental duration (the number of days the CD can be out before a late fee is charged) \n",
    "\n",
    "All of the information you need can be retrieved with a single query that joins the rental, inventory, film, and customer tables. Note that this is the same query used to answer Question 19 above, except with different column names.\n",
    "\n",
    "**Hint:** &nbsp; The dates in the database are strings.  Think about pattern matching when you write the WHERE clause that specifies the date range.\n"
   ]
  },
  {
   "cell_type": "code",
   "execution_count": 58,
   "metadata": {
    "collapsed": true,
    "deletable": false,
    "nbgrader": {
     "checksum": "f088858c2cd4711c5ab68e68cb012b98",
     "grade": true,
     "grade_id": "film_list",
     "locked": false,
     "points": 6,
     "schema_version": 1,
     "solution": true
    }
   },
   "outputs": [],
   "source": [
    "def film_list(name, month, year):\n",
    "    '''\n",
    "    (str,num,num) -> list\n",
    "    \n",
    "    '''\n",
    "    \n",
    "    \n",
    "    date = \"{}-{:02}\".format(year, month)\n",
    "\n",
    "    film_title = \"select title, rental_rate, rental_date,return_date, rental_duration from film join inventory using (film_id)\\\n",
    "    join rental using(inventory_id) join customer using(customer_id) WHERE last_name like '{}' and rental_date like '{}%'\".format(name, date)\n",
    "\n",
    "    result = db.execute(film_title)\n",
    "    return list(result)"
   ]
  },
  {
   "cell_type": "markdown",
   "metadata": {},
   "source": [
    "##### <span style=\"color:red\">Autograder Tests:</span>"
   ]
  },
  {
   "cell_type": "markdown",
   "metadata": {},
   "source": [
    "**Do not edit, copy, or delete these cells.**"
   ]
  },
  {
   "cell_type": "code",
   "execution_count": 59,
   "metadata": {
    "collapsed": true,
    "deletable": false,
    "editable": false,
    "nbgrader": {
     "checksum": "35c9520aaf60e848eaffc1cde16c96b4",
     "grade": true,
     "grade_id": "film_1",
     "locked": true,
     "points": 2,
     "schema_version": 1,
     "solution": false
    }
   },
   "outputs": [],
   "source": [
    "leo = film_list('Ebert', 6, 2005)\n",
    "assert len(leo) == 5\n",
    "assert leo[0] == ('Lonely Elephant', 2.99, '2005-06-16 20:59:35.000', '2005-06-24 15:31:35.000', 3)"
   ]
  },
  {
   "cell_type": "code",
   "execution_count": 60,
   "metadata": {
    "collapsed": true,
    "deletable": false,
    "editable": false,
    "nbgrader": {
     "checksum": "bb03a0a830f1591b9770aa54a841b5aa",
     "grade": true,
     "grade_id": "film_2",
     "locked": true,
     "points": 2,
     "schema_version": 1,
     "solution": false
    }
   },
   "outputs": [],
   "source": [
    "mary = film_list('Smith', 8, 2005)\n",
    "assert len(mary) == 11\n",
    "assert mary[0] == ('Adaptation Holes', 2.99, '2005-08-01 08:51:04.000', '2005-08-10 12:12:04.000', 7)"
   ]
  },
  {
   "cell_type": "markdown",
   "metadata": {},
   "source": [
    "### <span style=\"color:teal\">Overdue CDs</span>"
   ]
  },
  {
   "cell_type": "markdown",
   "metadata": {},
   "source": [
    "To decide whether a CD was returned late you need to subtract the rental date from the return date and see if the difference is greater than the rental duration. The easiest way to do this is to use Python’s `datetime` library.\n",
    "\n",
    "Using a call to `strptime` (see the body of the `mmddyyyy` function defined above) create `datetime` objects for the rental date and the return date. Then subtract the rental date from the return date to get a `timedelta` object:\n",
    "```\n",
    "    diff = returned - rented\n",
    "```\n",
    "Now you can get attributes of the object named `diff` to tell you how far apart the dates were, for example `diff.days` will tell you the time difference in days.\n",
    "\n",
    "Fill in the body of the `overdue` function.  The parameters are a rental date, a return date, and the rental duration.  Return TRUE if the CD was not returned or if the number of days it was checked out is greater than the rental duration."
   ]
  },
  {
   "cell_type": "code",
   "execution_count": 61,
   "metadata": {
    "collapsed": true,
    "deletable": false,
    "nbgrader": {
     "checksum": "c323f797a07a6c9b3735ad8edf1d3421",
     "grade": true,
     "grade_id": "overdue",
     "locked": false,
     "points": 4,
     "schema_version": 1,
     "solution": true
    }
   },
   "outputs": [],
   "source": [
    "def overdue(rent_date, return_date, duration):\n",
    "    '''\n",
    "    \n",
    "    (num, num, num)-> boolean\n",
    "    \n",
    "    '''\n",
    "    \n",
    "    rented = datetime.strptime(rent_date,date_format)\n",
    "    returned = datetime.strptime(return_date, date_format)\n",
    "    diff = returned - rented\n",
    "    \n",
    "    return diff.days > duration"
   ]
  },
  {
   "cell_type": "code",
   "execution_count": 62,
   "metadata": {
    "collapsed": true,
    "deletable": false,
    "editable": false,
    "nbgrader": {
     "checksum": "80d794c42ab8cce996954fd9b03c3ab3",
     "grade": true,
     "grade_id": "overdue_1",
     "locked": true,
     "points": 2,
     "schema_version": 1,
     "solution": false
    }
   },
   "outputs": [],
   "source": [
    "assert overdue('2005-06-16 20:59:35.000', '2005-06-19 20:59:35.000', 2)"
   ]
  },
  {
   "cell_type": "code",
   "execution_count": 63,
   "metadata": {
    "collapsed": true,
    "deletable": false,
    "editable": false,
    "nbgrader": {
     "checksum": "765469f430365b95790c1fc6ca19f4c8",
     "grade": true,
     "grade_id": "overdue_2",
     "locked": true,
     "points": 2,
     "schema_version": 1,
     "solution": false
    }
   },
   "outputs": [],
   "source": [
    "assert not overdue('2005-06-16 20:59:35.000', '2005-06-17 20:59:35.000', 2)"
   ]
  },
  {
   "cell_type": "code",
   "execution_count": 64,
   "metadata": {
    "collapsed": true,
    "deletable": false,
    "editable": false,
    "nbgrader": {
     "checksum": "05f3f9c7bd7551799d290730dbebb1fe",
     "grade": true,
     "grade_id": "overdue_3",
     "locked": true,
     "points": 2,
     "schema_version": 1,
     "solution": false
    }
   },
   "outputs": [],
   "source": [
    "assert not overdue('2005-06-16 20:59:35.000', '2005-06-19 20:59:34.000', 2)"
   ]
  },
  {
   "cell_type": "markdown",
   "metadata": {},
   "source": [
    "### <span style=\"color:teal\">Report Generator</span>"
   ]
  },
  {
   "cell_type": "markdown",
   "metadata": {},
   "source": [
    "Fill in the body of the function named `sakila_report` so it prints a monthly report.  The arguments passed to the function will be a customer's last name (a string) and a month and year (both integers).\n",
    "\n",
    "If the customer is not in the database, or if there are two customers with the same last name, return None.  Otherwise print a list of films and late fees and the total amount due.\n",
    "\n",
    "You can format the report however you would like, as long as the following items appear somewhere in the output:\n",
    "* every fee should be printed with a dollar sign and an amount, for example `$2.99` or `$25.92`\n",
    "* the total amound due should be printed on a line that includes the word `\"Total\"` followed by a dollar amount on the same line"
   ]
  },
  {
   "cell_type": "code",
   "execution_count": 66,
   "metadata": {
    "collapsed": true,
    "deletable": false,
    "nbgrader": {
     "checksum": "1df4a1d4be88cc0c6f4280e906e005f8",
     "grade": true,
     "grade_id": "report",
     "locked": false,
     "points": 10,
     "schema_version": 1,
     "solution": true
    }
   },
   "outputs": [],
   "source": [
    "def sakila_report(customer, month, year):\n",
    "    \n",
    "    '''\n",
    "    (str,num,num) -> None\n",
    "    '''\n",
    "    \n",
    "    name = customer_names(customer) \n",
    "    if len(name) != 1:\n",
    "        return None\n",
    "    \n",
    "    rental_detail = film_list(customer,month,year)\n",
    "    Total = 0\n",
    "    for item in rental_detail:\n",
    "        late_fee = 0\n",
    "        if overdue(item[2],item[3],item[4]):\n",
    "            late_fee += item[1]\n",
    "            Total += item[1]+ late_fee\n",
    "        else:\n",
    "            Total += item[1]\n",
    "        movie = item[0]\n",
    "        \n",
    "        print('{},${},${}'.format(movie, item[1], late_fee))  \n",
    "    print('Total = $' + ('{:.2f}'.format(Total)))"
   ]
  },
  {
   "cell_type": "markdown",
   "metadata": {},
   "source": [
    "##### <span style=\"color:red\">Tests</span>"
   ]
  },
  {
   "cell_type": "markdown",
   "metadata": {},
   "source": [
    "You can use code cells in this section (and add more if you wish) to test your functions."
   ]
  },
  {
   "cell_type": "code",
   "execution_count": null,
   "metadata": {
    "collapsed": true
   },
   "outputs": [],
   "source": []
  },
  {
   "cell_type": "markdown",
   "metadata": {},
   "source": [
    "##### <span style=\"color:red\">Autograder Tests</span>"
   ]
  },
  {
   "cell_type": "markdown",
   "metadata": {},
   "source": [
    "The tests for the `sakila_report` function will call the function and while using the IPython `capture` command to save everything the function prints.  We'll then use a function that counts the number of times a dollar amount (from either a rental fee or a late fee) occurs and make sure the total amount is the expected value.\n",
    "\n",
    "**Do not edit, copy, or delete these cells.**"
   ]
  },
  {
   "cell_type": "code",
   "execution_count": 67,
   "metadata": {
    "collapsed": true,
    "deletable": false,
    "editable": false,
    "nbgrader": {
     "checksum": "2f49d1799c7ab14021f07a28be3c903a",
     "grade": false,
     "grade_id": "check_report",
     "locked": true,
     "schema_version": 1,
     "solution": false
    }
   },
   "outputs": [],
   "source": [
    "import re\n",
    "\n",
    "def check_report(text, expected_count, expected_total):\n",
    "    nums = []\n",
    "    for line in text.split('\\n'):\n",
    "        has_total = re.search(r'Total.*(\\$\\d+\\.\\d\\d)', line)\n",
    "        if has_total:\n",
    "            assert has_total.group(1) == expected_total\n",
    "        else:\n",
    "            for s in re.findall(r'\\$\\d+\\.\\d\\d', line):\n",
    "                nums.append(s)\n",
    "    assert(len(nums) == expected_count)\n",
    "    total = 0.0\n",
    "    for s in nums:\n",
    "        total += float(s[1:])\n",
    "    assert(round(total,2)) == round(float(expected_total[1:]), 2)\n",
    "    return True"
   ]
  },
  {
   "cell_type": "code",
   "execution_count": 68,
   "metadata": {
    "collapsed": true,
    "deletable": false,
    "editable": false,
    "nbgrader": {
     "checksum": "669aa6961ac2f3df7f43f3739c606684",
     "grade": false,
     "grade_id": "capture_leo",
     "locked": true,
     "schema_version": 1,
     "solution": false
    }
   },
   "outputs": [],
   "source": [
    "%%capture res\n",
    "sakila_report('Ebert', 6, 2005)"
   ]
  },
  {
   "cell_type": "code",
   "execution_count": 69,
   "metadata": {
    "collapsed": true,
    "deletable": false,
    "editable": false,
    "nbgrader": {
     "checksum": "52d5bbb12d2951cd7f316dfafb8f9357",
     "grade": true,
     "grade_id": "leo_test",
     "locked": true,
     "points": 4,
     "schema_version": 1,
     "solution": false
    }
   },
   "outputs": [],
   "source": [
    "assert check_report(res.stdout, 8, '$25.92')"
   ]
  },
  {
   "cell_type": "code",
   "execution_count": 70,
   "metadata": {
    "collapsed": true,
    "deletable": false,
    "editable": false,
    "nbgrader": {
     "checksum": "8ff3338ef9d21fa580671aa6f7141965",
     "grade": false,
     "grade_id": "capture_mary",
     "locked": true,
     "schema_version": 1,
     "solution": false
    }
   },
   "outputs": [],
   "source": [
    "%%capture res\n",
    "sakila_report('Smith', 8, 2005)"
   ]
  },
  {
   "cell_type": "code",
   "execution_count": 71,
   "metadata": {
    "collapsed": true,
    "deletable": false,
    "editable": false,
    "nbgrader": {
     "checksum": "ef16e7521cb06dedabc59aa25a9e390d",
     "grade": true,
     "grade_id": "mary_test",
     "locked": true,
     "points": 4,
     "schema_version": 1,
     "solution": false
    }
   },
   "outputs": [],
   "source": [
    "assert check_report(res.stdout, 15, '$32.85')"
   ]
  },
  {
   "cell_type": "code",
   "execution_count": 72,
   "metadata": {
    "collapsed": true,
    "deletable": false,
    "editable": false,
    "nbgrader": {
     "checksum": "f405bf0dc3d1f189495a57dfdc8b8a1e",
     "grade": false,
     "grade_id": "capture_alan",
     "locked": true,
     "schema_version": 1,
     "solution": false
    }
   },
   "outputs": [],
   "source": [
    "%%capture res\n",
    "sakila_report('Turing', 6, 2005)"
   ]
  },
  {
   "cell_type": "code",
   "execution_count": 73,
   "metadata": {
    "collapsed": true,
    "deletable": false,
    "editable": false,
    "nbgrader": {
     "checksum": "db75b21478ac4552611eeb700788d17c",
     "grade": true,
     "grade_id": "alan_test",
     "locked": true,
     "points": 2,
     "schema_version": 1,
     "solution": false
    }
   },
   "outputs": [],
   "source": [
    "assert len(res.stdout) == 0"
   ]
  },
  {
   "cell_type": "code",
   "execution_count": 74,
   "metadata": {
    "collapsed": false
   },
   "outputs": [
    {
     "name": "stdout",
     "output_type": "stream",
     "text": [
      "Lonely Elephant,$2.99,$2.99\n",
      "Enemy Odds,$4.99,$4.99\n",
      "Song Hedwig,$0.99,$0.99\n",
      "Wash Heavenly,$4.99,$0\n",
      "Hurricane Affair,$2.99,$0\n",
      "Total = $25.92\n"
     ]
    }
   ],
   "source": [
    "sakila_report('Ebert', 6, 2005)"
   ]
  },
  {
   "cell_type": "code",
   "execution_count": null,
   "metadata": {
    "collapsed": true
   },
   "outputs": [],
   "source": []
  },
  {
   "cell_type": "code",
   "execution_count": null,
   "metadata": {
    "collapsed": true
   },
   "outputs": [],
   "source": []
  }
 ],
 "metadata": {
  "anaconda-cloud": {},
  "kernelspec": {
   "display_name": "Python [default]",
   "language": "python",
   "name": "python3"
  },
  "language_info": {
   "codemirror_mode": {
    "name": "ipython",
    "version": 3
   },
   "file_extension": ".py",
   "mimetype": "text/x-python",
   "name": "python",
   "nbconvert_exporter": "python",
   "pygments_lexer": "ipython3",
   "version": "3.5.2"
  }
 },
 "nbformat": 4,
 "nbformat_minor": 1
}
